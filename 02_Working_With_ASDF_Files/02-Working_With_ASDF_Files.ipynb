{
 "cells": [
  {
   "cell_type": "markdown",
   "id": "d9ddaad6",
   "metadata": {},
   "source": [
    "### Working With ASDF Files"
   ]
  },
  {
   "cell_type": "markdown",
   "id": "94181a7a",
   "metadata": {},
   "source": [
    "#### Outline\n",
    "\n",
    "- Read a file\n",
    "- Show the contents of an ASDF file\n",
    "- Search for an attribute in an ASDF file\n",
    "- Accessing metadata and data\n",
    "- Modifying and saving files\n",
    "- Exercise\n",
    "- Adding History items\n",
    "- Command line utilities"
   ]
  },
  {
   "cell_type": "markdown",
   "id": "6e3caa4b",
   "metadata": {},
   "source": [
    "#### Reading an ASDF file\n",
    "\n",
    "The Python ASDF library is a standalone package distributed through PyPi and conda-forge."
   ]
  },
  {
   "cell_type": "code",
   "execution_count": 1,
   "id": "31268892",
   "metadata": {},
   "outputs": [],
   "source": [
    "import asdf"
   ]
  },
  {
   "cell_type": "markdown",
   "id": "b75c9ba1",
   "metadata": {},
   "source": [
    "To open a file use the `open` function. It is useful to look up the keyword arguments it accepts, there are options specifying in what mode a file should be opened or whether it should be validated during opening. For this example we will use the default behavior and look at the object."
   ]
  },
  {
   "cell_type": "code",
   "execution_count": 2,
   "id": "af8e40a7",
   "metadata": {},
   "outputs": [
    {
     "data": {
      "text/plain": [
       "<asdf.asdf.AsdfFile at 0x110d04670>"
      ]
     },
     "execution_count": 2,
     "metadata": {},
     "output_type": "execute_result"
    }
   ],
   "source": [
    "af = asdf.open(\"pluto.asdf\")\n",
    "af"
   ]
  },
  {
   "cell_type": "markdown",
   "id": "d37ecdc4",
   "metadata": {},
   "source": [
    "#### Getting information about a file\n",
    "\n",
    "There are two functions that allow introspecting a file, `info` and `search`. They are available as methods on the `AsdfFile` object or and the command line interface. Both are configurable through multiple parameters."
   ]
  },
  {
   "cell_type": "code",
   "execution_count": 3,
   "id": "9c925129",
   "metadata": {},
   "outputs": [
    {
     "name": "stdout",
     "output_type": "stream",
     "text": [
      "\u001b[1mroot\u001b[0m (AsdfObject)\n",
      "\u001b[2m├─\u001b[0m\u001b[1masdf_library\u001b[0m (Software)\n",
      "\u001b[2m│ ├─\u001b[0m\u001b[1mauthor\u001b[0m (str): The ASDF Developers\n",
      "\u001b[2m│ ├─\u001b[0m\u001b[1mhomepage\u001b[0m (str): http://github.com/asdf-format/asdf\n",
      "\u001b[2m│ ├─\u001b[0m\u001b[1mname\u001b[0m (str): asdf\n",
      "\u001b[2m│ └─\u001b[0m\u001b[1mversion\u001b[0m (str): 2.12.0\n",
      "\u001b[2m├─\u001b[0m\u001b[1mhistory\u001b[0m (dict)\n",
      "\u001b[2m│ └─\u001b[0m\u001b[1mextensions\u001b[0m (list)\n",
      "\u001b[2m│   ├─\u001b[0m[\u001b[1m0\u001b[0m] (ExtensionMetadata)\n",
      "\u001b[2m│   │ ├─\u001b[0m\u001b[1mextension_class\u001b[0m (str): asdf.extension.BuiltinExtension\n",
      "\u001b[2m│   │ └─\u001b[0m\u001b[1msoftware\u001b[0m (Software)\n",
      "\u001b[2m│   │   ├─\u001b[0m\u001b[1mname\u001b[0m (str): asdf\n",
      "\u001b[2m│   │   └─\u001b[0m\u001b[1mversion\u001b[0m (str): 2.12.0\n",
      "\u001b[2m│   └─\u001b[0m[\u001b[1m1\u001b[0m] (ExtensionMetadata)\n",
      "\u001b[2m│     ├─\u001b[0m\u001b[1mextension_class\u001b[0m (str): asdf.extension._manifest.ManifestExtension\n",
      "\u001b[2m│     ├─\u001b[0m\u001b[1mextension_uri\u001b[0m (str): asdf://asdf-format.org/core/extensions/core-1.5.0\n",
      "\u001b[2m│     └─\u001b[0m\u001b[1msoftware\u001b[0m (Software)\n",
      "\u001b[2m│       ├─\u001b[0m\u001b[1mname\u001b[0m (str): asdf-astropy\n",
      "\u001b[2m│       └─\u001b[0m\u001b[1mversion\u001b[0m (str): 0.2.1\n",
      "\u001b[2m├─\u001b[0m\u001b[1mbirthday\u001b[0m (date)\n",
      "\u001b[2m├─\u001b[0m\u001b[1mmass\u001b[0m (Quantity): shape=(), dtype=float64\n",
      "\u001b[2m├─\u001b[0m\u001b[1mname\u001b[0m (str): Pluto\n",
      "\u001b[2m└─\u001b[0m\u001b[1mpicture\u001b[0m (NDArrayType): shape=(333, 151, 4), dtype=float32\n"
     ]
    }
   ],
   "source": [
    "af.info()"
   ]
  },
  {
   "cell_type": "markdown",
   "id": "618c7e13",
   "metadata": {},
   "source": [
    "The asdf library has search capabilities. A file can be searched for an attribute by name, type or value."
   ]
  },
  {
   "cell_type": "code",
   "execution_count": 4,
   "id": "94ae8d29",
   "metadata": {},
   "outputs": [
    {
     "data": {
      "text/plain": [
       "\u001b[1mroot\u001b[0m (AsdfObject)\n",
       "\u001b[2m└─\u001b[0m\u001b[1mbirthday\u001b[0m (date)"
      ]
     },
     "execution_count": 4,
     "metadata": {},
     "output_type": "execute_result"
    }
   ],
   "source": [
    "af.search(\"birthday\")"
   ]
  },
  {
   "cell_type": "code",
   "execution_count": 5,
   "id": "85ff4367",
   "metadata": {},
   "outputs": [
    {
     "data": {
      "text/plain": [
       "\u001b[1mroot\u001b[0m (AsdfObject)\n",
       "\u001b[2m└─\u001b[0m\u001b[1mname\u001b[0m (str): Pluto"
      ]
     },
     "execution_count": 5,
     "metadata": {},
     "output_type": "execute_result"
    }
   ],
   "source": [
    "af.search(value=\"Pluto\")"
   ]
  },
  {
   "cell_type": "markdown",
   "id": "7180da03",
   "metadata": {},
   "source": [
    "`astropy` supports units and quantities. A `Quantity` is a value (scalar or array) with units attached to it. Let's searvh by type `Quantity`."
   ]
  },
  {
   "cell_type": "code",
   "execution_count": 6,
   "id": "c6b5dd23",
   "metadata": {},
   "outputs": [
    {
     "data": {
      "text/plain": [
       "\u001b[1mroot\u001b[0m (AsdfObject)\n",
       "\u001b[2m└─\u001b[0m\u001b[1mmass\u001b[0m (Quantity): shape=(), dtype=float64"
      ]
     },
     "execution_count": 6,
     "metadata": {},
     "output_type": "execute_result"
    }
   ],
   "source": [
    "from astropy import units as u\n",
    "\n",
    "af.search(type=u.Quantity)"
   ]
  },
  {
   "cell_type": "markdown",
   "id": "0ec8fa85",
   "metadata": {},
   "source": [
    "#### Accessing and Modifying a file\n",
    "\n",
    "Attributes are accessed using a dict-like interface. Note that what we get below is a `Quantity` object."
   ]
  },
  {
   "cell_type": "code",
   "execution_count": 7,
   "id": "e6dfa6be",
   "metadata": {},
   "outputs": [
    {
     "name": "stdout",
     "output_type": "stream",
     "text": [
      "10.0 kg\n"
     ]
    }
   ],
   "source": [
    "weight = af[\"mass\"]\n",
    "print(weight)"
   ]
  },
  {
   "cell_type": "code",
   "execution_count": 8,
   "id": "e2e1dc60-c9a8-45b0-aa78-fb5ac8b193ae",
   "metadata": {},
   "outputs": [
    {
     "data": {
      "text/plain": [
       "astropy.units.quantity.Quantity"
      ]
     },
     "execution_count": 8,
     "metadata": {},
     "output_type": "execute_result"
    }
   ],
   "source": [
    "type(weight)"
   ]
  },
  {
   "cell_type": "markdown",
   "id": "d947c876",
   "metadata": {},
   "source": [
    "#### Using a schema to validate a file"
   ]
  },
  {
   "cell_type": "markdown",
   "id": "956a835d",
   "metadata": {},
   "source": [
    "ASDF uses schemas to check that a file conforms to the [ASDF Standard](https://asdf-standard.readthedocs.io/en/latest/) and possibly the requirements of other extensions (see later notebooks). `jsonschema` is used for validation. Schema validation happens on reading (`asdf.open`) and writing (`write_to` and `update`). \n",
    "\n",
    "However, sometimes it is useful for particular applications to impose additional restrictions when deciding whether a given file is valid or not. ASDF allows using \"custom schemas\" in such cases and passing them to the `open` function.\n"
   ]
  },
  {
   "cell_type": "markdown",
   "id": "ea1ec628",
   "metadata": {},
   "source": [
    "Let's see how to write a schema and make sure our file `pluto.asdf` is correct.\n",
    "A schema is just a text file and and any editor can be used to write it.\n",
    "\n",
    "- There's a yaml header at the begining of each schema which states the version of the YAML schema, followed by `---` and the `$schema` declaration stating the draft.\n",
    "- A schema file ends with `...` .\n",
    "- The ASDF schemas use indentation, similar to YAML, and by convention it is 2 spaces.\n",
    "- `title` is not required but by convention it's a one-line description of an attribute, printed as a comment by `info()`.\n",
    "- `description` is an optional, longer, possibly multi-line comment.\n",
    "- `type` is required\n",
    "- If a `required` field is present, all properties listed in it must be present in the file.\n"
   ]
  },
  {
   "cell_type": "code",
   "execution_count": 9,
   "id": "c921fdfd",
   "metadata": {},
   "outputs": [],
   "source": [
    "s = \"\"\"\n",
    "%YAML 1.1\n",
    "---\n",
    "$schema: http://stsci.edu/schemas/yaml-schema/draft-01\n",
    "\n",
    "title: Mickey's pet\n",
    "description: |\n",
    "  Basic info and a picture of Mickie's \n",
    "  dog Pluto.\n",
    "\n",
    "type: object\n",
    "properties:\n",
    "  age:\n",
    "    title: The age of Pluto\n",
    "    type: object\n",
    "    properties:\n",
    "      birthday:\n",
    "        title: Pluto's first showing\n",
    "        tag: tag:stsci.edu:asdf/time/time-1.1.0\n",
    "  mass:\n",
    "    title: How much he weighs.\n",
    "    tag: tag:stsci.edu:asdf/unit/quantity-1.1.0\n",
    "  picture:\n",
    "    tag: tag:stsci.edu:asdf/core/ndarray-1.0.0\n",
    "  name:\n",
    "    title: Name\n",
    "    type: string\n",
    "required: [name, picture]\n",
    "...\n",
    "\"\"\""
   ]
  },
  {
   "cell_type": "code",
   "execution_count": 10,
   "id": "b3f616a5",
   "metadata": {},
   "outputs": [],
   "source": [
    "f = open(\"pluto-1.0.0.yaml\", mode=\"w\")\n",
    "f.write(s)\n",
    "f.close()"
   ]
  },
  {
   "cell_type": "code",
   "execution_count": 11,
   "id": "88e17155",
   "metadata": {},
   "outputs": [],
   "source": [
    "afs = asdf.open(\"pluto.asdf\", custom_schema=\"./pluto-1.0.0.yaml\")"
   ]
  },
  {
   "cell_type": "markdown",
   "id": "282b7988",
   "metadata": {},
   "source": [
    "#### Adding History items\n",
    "\n",
    "When using `asdf.info` we see one of the properties is called `History`. By default it stores a list of extensions used when processing the file. It is possible to add custom entries to this list."
   ]
  },
  {
   "cell_type": "code",
   "execution_count": 12,
   "id": "eeefb4ce",
   "metadata": {},
   "outputs": [],
   "source": [
    "afs.add_history_entry('First appeared in \"The Chain Gang\", 1930')"
   ]
  },
  {
   "cell_type": "code",
   "execution_count": 13,
   "id": "656f82f6",
   "metadata": {},
   "outputs": [
    {
     "name": "stdout",
     "output_type": "stream",
     "text": [
      "\u001b[1mroot\u001b[0m (AsdfObject)\n",
      "\u001b[2m├─\u001b[0m\u001b[1masdf_library\u001b[0m (Software)\n",
      "\u001b[2m│ ├─\u001b[0m\u001b[1mauthor\u001b[0m (str): The ASDF Developers\n",
      "\u001b[2m│ ├─\u001b[0m\u001b[1mhomepage\u001b[0m (str): http://github.com/asdf-format/asdf\n",
      "\u001b[2m│ ├─\u001b[0m\u001b[1mname\u001b[0m (str): asdf\n",
      "\u001b[2m│ └─\u001b[0m\u001b[1mversion\u001b[0m (str): 2.12.0\n",
      "\u001b[2m├─\u001b[0m\u001b[1mhistory\u001b[0m (dict)\n",
      "\u001b[2m│ ├─\u001b[0m\u001b[1mextensions\u001b[0m (list)\n",
      "\u001b[2m│ │ ├─\u001b[0m[\u001b[1m0\u001b[0m] (ExtensionMetadata)\n",
      "\u001b[2m│ │ │ ├─\u001b[0m\u001b[1mextension_class\u001b[0m (str): asdf.extension.BuiltinExtension\n",
      "\u001b[2m│ │ │ └─\u001b[0m\u001b[1msoftware\u001b[0m (Software)\n",
      "\u001b[2m│ │ │   ├─\u001b[0m\u001b[1mname\u001b[0m (str): asdf\n",
      "\u001b[2m│ │ │   └─\u001b[0m\u001b[1mversion\u001b[0m (str): 2.12.0\n",
      "\u001b[2m│ │ └─\u001b[0m[\u001b[1m1\u001b[0m] (ExtensionMetadata)\n",
      "\u001b[2m│ │   ├─\u001b[0m\u001b[1mextension_class\u001b[0m (str): asdf.extension._manifest.ManifestExtension\n",
      "\u001b[2m│ │   ├─\u001b[0m\u001b[1mextension_uri\u001b[0m (str): asdf://asdf-format.org/core/extensions/core-1.5.0\n",
      "\u001b[2m│ │   └─\u001b[0m\u001b[1msoftware\u001b[0m (Software)\n",
      "\u001b[2m│ │     ├─\u001b[0m\u001b[1mname\u001b[0m (str): asdf-astropy\n",
      "\u001b[2m│ │     └─\u001b[0m\u001b[1mversion\u001b[0m (str): 0.2.1\n",
      "\u001b[2m│ └─\u001b[0m\u001b[1mentries\u001b[0m (list)\n",
      "\u001b[2m│   └─\u001b[0m[\u001b[1m0\u001b[0m] (HistoryEntry)\n",
      "\u001b[2m│     ├─\u001b[0m\u001b[1mdescription\u001b[0m (str): First appeared in \"The Chain Gang\", 1930\n",
      "\u001b[2m│     └─\u001b[0m\u001b[1mtime\u001b[0m (datetime)\n",
      "\u001b[2m├─\u001b[0m\u001b[1mbirthday\u001b[0m (date)\n",
      "\u001b[2m├─\u001b[0m\u001b[1mmass\u001b[0m (Quantity): shape=(), dtype=float64\n",
      "\u001b[2m├─\u001b[0m\u001b[1mname\u001b[0m (str): Pluto\n",
      "\u001b[2m└─\u001b[0m\u001b[1mpicture\u001b[0m (NDArrayType): shape=(333, 151, 4), dtype=float32\n"
     ]
    }
   ],
   "source": [
    "afs.info(max_rows=30)"
   ]
  },
  {
   "cell_type": "code",
   "execution_count": 14,
   "id": "0b831614",
   "metadata": {},
   "outputs": [
    {
     "data": {
      "text/plain": [
       "[{'description': 'First appeared in \"The Chain Gang\", 1930',\n",
       "  'time': datetime.datetime(2022, 7, 11, 13, 39, 49)}]"
      ]
     },
     "execution_count": 14,
     "metadata": {},
     "output_type": "execute_result"
    }
   ],
   "source": [
    "afs.get_history_entries()"
   ]
  },
  {
   "cell_type": "markdown",
   "id": "e970eba1",
   "metadata": {},
   "source": [
    "**Command Line Interface**\n",
    "\n",
    "The library, asdf, includes a command-line tool, asdftool that performs a number of useful operations:\n",
    "\n",
    "**explode:** Convert a self-contained ASDF file into exploded form (see Saving external arrays).\n",
    "\n",
    "**implode:** Convert an ASDF file in exploded form into a self-contained file.\n",
    "\n",
    "**defragment:** Remove unused blocks and extra space.\n",
    "\n",
    "**diff:** Report differences between two ASDF files.\n",
    "\n",
    "**edit:** Edit the YAML portion of an ASDF file.\n",
    "\n",
    "**info:** Print a rendering of an ASDF tree.\n",
    "\n",
    "**extensions:** Show information about installed extensions (see Extensions from other packages).\n",
    "\n",
    "**tags:** List currently available tags.\n",
    "\n",
    "**to_yaml:** Inline all of the data in an ASDF file so that it is pure YAML.\n",
    "\n",
    "Run `asdftool --help` for more information."
   ]
  },
  {
   "cell_type": "code",
   "execution_count": 15,
   "id": "39b776d2",
   "metadata": {},
   "outputs": [
    {
     "name": "stdout",
     "output_type": "stream",
     "text": [
      "usage: asdftool [-h] [--verbose]\n",
      "                {help,explode,implode,extract,defragment,diff,edit,remove-hdu,info,extensions,tags,to_yaml}\n",
      "                ...\n",
      "\n",
      "Commandline utilities for managing ASDF files.\n",
      "\n",
      "optional arguments:\n",
      "  -h, --help            show this help message and exit\n",
      "  --verbose, -v         Increase verbosity\n",
      "\n",
      "subcommands:\n",
      "  valid subcommands\n",
      "\n",
      "  {help,explode,implode,extract,defragment,diff,edit,remove-hdu,info,extensions,tags,to_yaml}\n",
      "    help                Display usage information\n",
      "    explode             Explode a ASDF file.\n",
      "    implode             Implode a ASDF file.\n",
      "    extract             Extract ASDF extensions in ASDF-in-FITS files into\n",
      "                        pure ASDF files\n",
      "    defragment          Defragment an ASDF file..\n",
      "    diff                Report differences between two ASDF files\n",
      "    remove-hdu          Remove ASDF extension from ASDF-in-FITS file\n",
      "    info                Print a rendering of an ASDF tree.\n",
      "    extensions          Show information about installed extensions\n",
      "    tags                List currently available tags\n",
      "    to_yaml             Convert as ASDF file to pure YAML.\n"
     ]
    }
   ],
   "source": [
    "!asdftool --help"
   ]
  },
  {
   "cell_type": "markdown",
   "id": "a2086a19",
   "metadata": {},
   "source": [
    "--- \n",
    "\n",
    "**Exercises:**\n",
    "\n",
    " 1. Reading and accessing data\n",
    " \n",
    "    - Open the file `jwst.asdf` in the `02_Working_With_ASDF_Files` directory. Look at the `info` method's help and   display the file using some of the arguments to show more contents.\n",
    "    - Search for a few attributes - `wcs`, `data`\n",
    "      (`wcs` stands for World Coordinate System. In astronomy it represents the transform from pixel coordinates to sky coordinates or some physical system.)\n",
    "    - Retrieve the `wcs` object following the path showed by the `search` method\n",
    "    - Look at the `wcs` object and print `wcs.forward_transform`\n",
    "    - Use matplotlib to display the data array\n",
    "    - Look at the `data` array and modify the value of `data[0, 0]`  to 999.\n",
    "\n",
    "    \n",
    "\n",
    "\n",
    " 2. Explore schemas\n",
    "\n",
    "   - Add `additionalProperties=false` to the schema and attempt to add a new property.\n",
    "   - Modify the schema to include a required property, called `friend` of type string. \n",
    "   - Open the file to see the error message\n",
    "\n",
    "\n",
    " 3. Command line tool\n",
    "\n",
    "   - Use `asdftool` in a terminal window to find the differences in the two files - `pluto.asdf` and `pluto-friend.asdf`.\n",
    "\n",
    "   - Use some of the other options of asdftool\n",
    "   \n",
    "---"
   ]
  },
  {
   "cell_type": "code",
   "execution_count": 56,
   "id": "c093114d",
   "metadata": {},
   "outputs": [
    {
     "data": {
      "text/plain": [
       "<asdf.asdf.AsdfFile at 0x2812a4130>"
      ]
     },
     "execution_count": 56,
     "metadata": {},
     "output_type": "execute_result"
    }
   ],
   "source": [
    "jwst = asdf.open(\"jwst.asdf\", mode=\"rw\")\n",
    "jwst"
   ]
  },
  {
   "cell_type": "code",
   "execution_count": 57,
   "id": "6d6e7adf-0eab-4131-bf3d-683cebc41b5a",
   "metadata": {},
   "outputs": [
    {
     "name": "stdout",
     "output_type": "stream",
     "text": [
      "\u001b[1mroot\u001b[0m (AsdfObject)\n",
      "\u001b[2m├─\u001b[0m\u001b[1masdf_library\u001b[0m (Software)\n",
      "\u001b[2m│ ├─\u001b[0m\u001b[1mauthor\u001b[0m (str): The ASDF Developers\n",
      "\u001b[2m│ ├─\u001b[0m\u001b[1mhomepage\u001b[0m (str): http://github.com/asdf-format/asdf\n",
      "\u001b[2m│ ├─\u001b[0m\u001b[1mname\u001b[0m (str): asdf\n",
      "\u001b[2m│ └─\u001b[0m\u001b[1mversion\u001b[0m (str): 2.12.0\n",
      "\u001b[2m├─\u001b[0m\u001b[1mhistory\u001b[0m (dict)\n",
      "\u001b[2m│ └─\u001b[0m\u001b[1mextensions\u001b[0m (list)\n",
      "\u001b[2m│   ├─\u001b[0m[\u001b[1m0\u001b[0m] (ExtensionMetadata)\u001b[3m ...\u001b[0m\n",
      "\u001b[2m│   ├─\u001b[0m[\u001b[1m1\u001b[0m] (ExtensionMetadata)\u001b[3m ...\u001b[0m\n",
      "\u001b[2m│   ├─\u001b[0m[\u001b[1m2\u001b[0m] (ExtensionMetadata)\u001b[3m ...\u001b[0m\n",
      "\u001b[2m│   ├─\u001b[0m[\u001b[1m3\u001b[0m] (ExtensionMetadata)\u001b[3m ...\u001b[0m\n",
      "\u001b[2m│   └─\u001b[0m[\u001b[1m4\u001b[0m] (ExtensionMetadata)\u001b[3m ...\u001b[0m\n",
      "\u001b[2m├─\u001b[0m\u001b[1mdata\u001b[0m (NDArrayType): shape=(333, 151, 4), dtype=float32\n",
      "\u001b[2m└─\u001b[0m\u001b[1mmeta\u001b[0m (dict)\n",
      "\u001b[2m  ├─\u001b[0m\u001b[1maperture\u001b[0m (dict)\n",
      "\u001b[2m  │ └─\u001b[0m\u001b[1mname\u001b[0m (str): NRCB3_FULL\n",
      "\u001b[2m  ├─\u001b[0m\u001b[1mbunit_data\u001b[0m (str): DN/s\n",
      "\u001b[2m  ├─\u001b[0m\u001b[1mbunit_err\u001b[0m (str): DN/s\n",
      "\u001b[2m  ├─\u001b[0m\u001b[1mcal_step\u001b[0m (dict)\n",
      "\u001b[2m  │ ├─\u001b[0m\u001b[1massign_wcs\u001b[0m (str): COMPLETE\n",
      "\u001b[2m  │ ├─\u001b[0m\u001b[1mdark_sub\u001b[0m (str): COMPLETE\n",
      "\u001b[2m  │ ├─\u001b[0m\u001b[1mdq_init\u001b[0m (str): COMPLETE\n",
      "\u001b[2m  │ ├─\u001b[0m\u001b[1mgain_scale\u001b[0m (str): SKIPPED\n",
      "\u001b[2m  │ ├─\u001b[0m\u001b[1mgroup_scale\u001b[0m (str): SKIPPED\n",
      "\u001b[2m  │ ├─\u001b[0m\u001b[1mipc\u001b[0m (str): COMPLETE\n",
      "\u001b[2m  │ ├─\u001b[0m\u001b[1mjump\u001b[0m (str): COMPLETE\n",
      "\u001b[2m  │ ├─\u001b[0m\u001b[1mlinearity\u001b[0m (str): COMPLETE\n",
      "\u001b[2m  │ ├─\u001b[0m\u001b[1mramp_fit\u001b[0m (str): COMPLETE\n",
      "\u001b[2m  │ ├─\u001b[0m\u001b[1mrefpix\u001b[0m (str): COMPLETE\n",
      "\u001b[2m  │ ├─\u001b[0m\u001b[1msaturation\u001b[0m (str): COMPLETE\n",
      "\u001b[2m  │ └─\u001b[0m\u001b[1msuperbias\u001b[0m (str): COMPLETE\n",
      "\u001b[2m  ├─\u001b[0m\u001b[1mcalibration_software_revision\u001b[0m (str): RELEASE\n",
      "\u001b[2m  ├─\u001b[0m\u001b[1mcalibration_software_version\u001b[0m (str): 1.5.1a0\n",
      "\u001b[2m  ├─\u001b[0m\u001b[1mcoordinates\u001b[0m (dict)\u001b[3m ...\u001b[0m\n",
      "\u001b[2m  ├─\u001b[0m\u001b[1mdate\u001b[0m (str): 2022-07-06T19:12:06.394\n",
      "\u001b[2m  ├─\u001b[0m\u001b[1mdither\u001b[0m (dict)\u001b[3m ...\u001b[0m\n",
      "\u001b[2m  ├─\u001b[0m\u001b[1mexposure\u001b[0m (dict)\u001b[3m ...\u001b[0m\n",
      "\u001b[2m  ├─\u001b[0m\u001b[1mfilename\u001b[0m (str): bryan.asdf\n",
      "\u001b[2m  ├─\u001b[0m\u001b[1mfiletype\u001b[0m (str): countrate\n",
      "\u001b[2m  ├─\u001b[0m\u001b[1minstrument\u001b[0m (dict)\u001b[3m ...\u001b[0m\n",
      "\u001b[2m  ├─\u001b[0m\u001b[1mmodel_type\u001b[0m (str): ImageModel\n",
      "\u001b[2m  ├─\u001b[0m\u001b[1mobservation\u001b[0m (dict)\u001b[3m ...\u001b[0m\n",
      "\u001b[2m  ├─\u001b[0m\u001b[1morigin\u001b[0m (str): STScI\n",
      "\u001b[2m  ├─\u001b[0m\u001b[1mpointing\u001b[0m (dict)\u001b[3m ...\u001b[0m\n",
      "\u001b[2m  ├─\u001b[0m\u001b[1mprogram\u001b[0m (dict)\u001b[3m ...\u001b[0m\n",
      "\u001b[2m  ├─\u001b[0m\u001b[1mref_file\u001b[0m (dict)\u001b[3m ...\u001b[0m\n",
      "\u001b[2m  ├─\u001b[0m\u001b[1msubarray\u001b[0m (dict)\u001b[3m ...\u001b[0m\n",
      "\u001b[2m  ├─\u001b[0m\u001b[1mtarget\u001b[0m (dict)\u001b[3m ...\u001b[0m\n",
      "\u001b[2m  ├─\u001b[0m\u001b[1mtelescope\u001b[0m (str): JWST\n",
      "\u001b[2m  ├─\u001b[0m\u001b[1mvelocity_aberration\u001b[0m (dict)\n",
      "\u001b[2m  ├─\u001b[0m\u001b[1mvisit\u001b[0m (dict)\u001b[3m ...\u001b[0m\n",
      "\u001b[2m  ├─\u001b[0m\u001b[1mwcs\u001b[0m (WCS)\n",
      "\u001b[2m  └─\u001b[0m\u001b[1mwcsinfo\u001b[0m (dict)\u001b[3m ...\u001b[0m\n",
      "\u001b[2m\u001b[3mSome nodes not shown.\u001b[0m\u001b[0m\n"
     ]
    }
   ],
   "source": [
    "jwst.info(max_rows=55)"
   ]
  },
  {
   "cell_type": "code",
   "execution_count": 58,
   "id": "91abcc5c-626a-44ad-a73e-fb765a728fc6",
   "metadata": {},
   "outputs": [
    {
     "data": {
      "text/plain": [
       "\u001b[0;31mSignature:\u001b[0m\n",
       "\u001b[0mjwst\u001b[0m\u001b[0;34m.\u001b[0m\u001b[0minfo\u001b[0m\u001b[0;34m(\u001b[0m\u001b[0;34m\u001b[0m\n",
       "\u001b[0;34m\u001b[0m    \u001b[0mmax_rows\u001b[0m\u001b[0;34m=\u001b[0m\u001b[0;36m24\u001b[0m\u001b[0;34m,\u001b[0m\u001b[0;34m\u001b[0m\n",
       "\u001b[0;34m\u001b[0m    \u001b[0mmax_cols\u001b[0m\u001b[0;34m=\u001b[0m\u001b[0;36m120\u001b[0m\u001b[0;34m,\u001b[0m\u001b[0;34m\u001b[0m\n",
       "\u001b[0;34m\u001b[0m    \u001b[0mshow_values\u001b[0m\u001b[0;34m=\u001b[0m\u001b[0;32mTrue\u001b[0m\u001b[0;34m,\u001b[0m\u001b[0;34m\u001b[0m\n",
       "\u001b[0;34m\u001b[0m    \u001b[0mrefresh_extension_manager\u001b[0m\u001b[0;34m=\u001b[0m\u001b[0;32mFalse\u001b[0m\u001b[0;34m,\u001b[0m\u001b[0;34m\u001b[0m\n",
       "\u001b[0;34m\u001b[0m\u001b[0;34m)\u001b[0m\u001b[0;34m\u001b[0m\u001b[0;34m\u001b[0m\u001b[0m\n",
       "\u001b[0;31mDocstring:\u001b[0m\n",
       "Print a rendering of this file's tree to stdout.\n",
       "\n",
       "Parameters\n",
       "----------\n",
       "max_rows : int, tuple, or None, optional\n",
       "    Maximum number of lines to print.  Nodes that cannot be\n",
       "    displayed will be elided with a message.\n",
       "    If int, constrain total number of displayed lines.\n",
       "    If tuple, constrain lines per node at the depth corresponding                 to the tuple index.\n",
       "    If None, display all lines.\n",
       "\n",
       "max_cols : int or None, optional\n",
       "    Maximum length of line to print.  Nodes that cannot\n",
       "    be fully displayed will be truncated with a message.\n",
       "    If int, constrain length of displayed lines.\n",
       "    If None, line length is unconstrained.\n",
       "\n",
       "show_values : bool, optional\n",
       "    Set to False to disable display of primitive values in\n",
       "    the rendered tree.\n",
       "\u001b[0;31mFile:\u001b[0m      ~/miniconda3/envs/asdf-tutorial-env/lib/python3.9/site-packages/asdf/asdf.py\n",
       "\u001b[0;31mType:\u001b[0m      method\n"
      ]
     },
     "metadata": {},
     "output_type": "display_data"
    }
   ],
   "source": [
    "jwst.info?"
   ]
  },
  {
   "cell_type": "code",
   "execution_count": 59,
   "id": "dbdf203c-bd52-4051-8624-76cedc65a98d",
   "metadata": {},
   "outputs": [
    {
     "data": {
      "text/plain": [
       "\u001b[1mroot\u001b[0m (AsdfObject)\n",
       "\u001b[2m└─\u001b[0m\u001b[1mmeta\u001b[0m (dict)\n",
       "\u001b[2m  ├─\u001b[0m\u001b[1mcal_step\u001b[0m (dict)\n",
       "\u001b[2m  │ └─\u001b[0m\u001b[1massign_wcs\u001b[0m (str): COMPLETE\n",
       "\u001b[2m  ├─\u001b[0m\u001b[1mref_file\u001b[0m (dict)\n",
       "\u001b[2m  │ └─\u001b[0m\u001b[1mspecwcs\u001b[0m (dict)\n",
       "\u001b[2m  ├─\u001b[0m\u001b[1mwcs\u001b[0m (WCS)\n",
       "\u001b[2m  └─\u001b[0m\u001b[1mwcsinfo\u001b[0m (dict)\n",
       "\u001b[2m    ├─\u001b[0m\u001b[1mwcsaxes\u001b[0m (int): 2\n",
       "\u001b[2m    └─\u001b[0m\u001b[1mwcsname\u001b[0m (str): world"
      ]
     },
     "execution_count": 59,
     "metadata": {},
     "output_type": "execute_result"
    }
   ],
   "source": [
    "jwst.search(\"wcs\")"
   ]
  },
  {
   "cell_type": "code",
   "execution_count": 60,
   "id": "e14183f8-a8b6-49e7-b99c-3370faee6827",
   "metadata": {},
   "outputs": [
    {
     "data": {
      "text/plain": [
       "\u001b[1mroot\u001b[0m (AsdfObject)\n",
       "\u001b[2m├─\u001b[0m\u001b[1mdata\u001b[0m (NDArrayType): shape=(333, 151, 4), dtype=float32\n",
       "\u001b[2m└─\u001b[0m\u001b[1mmeta\u001b[0m (dict)\n",
       "\u001b[2m  └─\u001b[0m\u001b[1mbunit_data\u001b[0m (str): DN/s"
      ]
     },
     "execution_count": 60,
     "metadata": {},
     "output_type": "execute_result"
    }
   ],
   "source": [
    "jwst.search(\"data\")"
   ]
  },
  {
   "cell_type": "code",
   "execution_count": 61,
   "id": "812f9b7c-9669-4bc0-87b5-ed2bdb86478e",
   "metadata": {},
   "outputs": [
    {
     "data": {
      "text/plain": [
       "<WCS(output_frame=world, input_frame=detector, forward_transform=Model: CompoundModel\n",
       "Inputs: ('x0', 'x1')\n",
       "Outputs: ('lon', 'lat')\n",
       "Model set size: 1\n",
       "Expression: [0] & [1] | [2] & [3] | [4] & [5] | [6] | [7] & [8] | [9] | [10] & [11] | [12] & [13] | [14] | [15] & [16] | [17] | [18] | [19]\n",
       "Components: \n",
       "    [0]: <Shift(offset=1.016)>\n",
       "\n",
       "    [1]: <Shift(offset=1.625)>\n",
       "\n",
       "    [2]: <Shift(offset=1.)>\n",
       "\n",
       "    [3]: <Shift(offset=1.)>\n",
       "\n",
       "    [4]: <Shift(offset=-1024.5)>\n",
       "\n",
       "    [5]: <Shift(offset=-1024.5)>\n",
       "\n",
       "    [6]: <Mapping((0, 1, 0, 1))>\n",
       "\n",
       "    [7]: <Polynomial2D(5, c0_0=0., c1_0=0.03082914, c2_0=-0.00000006, c3_0=0., c4_0=-0., c5_0=0., c0_1=0., c0_2=0.00000001, c0_3=-0., c0_4=-0., c0_5=0., c1_1=-0.00000016, c1_2=0., c1_3=-0., c1_4=-0., c2_1=0., c2_2=-0., c2_3=-0., c3_1=0., c3_2=-0., c4_1=0.)>\n",
       "\n",
       "    [8]: <Polynomial2D(5, c0_0=0., c1_0=0.00002005, c2_0=0.00000009, c3_0=0., c4_0=0., c5_0=-0., c0_1=0.03091744, c0_2=-0.00000008, c0_3=0., c0_4=0., c0_5=-0., c1_1=-0.00000008, c1_2=-0., c1_3=-0., c1_4=0., c2_1=0., c2_2=0., c2_3=-0., c3_1=0., c3_2=-0., c4_1=0.)>\n",
       "\n",
       "    [9]: <Mapping((0, 1, 0, 1))>\n",
       "\n",
       "    [10]: <Polynomial2D(1, c0_0=0., c1_0=-0.99996951, c0_1=-0.0078089)>\n",
       "\n",
       "    [11]: <Polynomial2D(1, c0_0=0., c1_0=-0.0078089, c0_1=0.99996951)>\n",
       "\n",
       "    [12]: <Shift(offset=-54.5598065)>\n",
       "\n",
       "    [13]: <Shift(offset=-457.731149)>\n",
       "\n",
       "    [14]: <Identity(2)>\n",
       "\n",
       "    [15]: <Scale(factor=0.00027778)>\n",
       "\n",
       "    [16]: <Scale(factor=0.00027778)>\n",
       "\n",
       "    [17]: <SphericalToCartesian()>\n",
       "\n",
       "    [18]: <RotationSequence3D(angles=[ -0.01476109,   0.12717271,   0.03968835, -69.48689121, -80.51050556])>\n",
       "\n",
       "    [19]: <CartesianToSpherical()>\n",
       "Parameters:\n",
       "    offset_0 offset_1 ...                  angles_18                 \n",
       "    -------- -------- ... -------------------------------------------\n",
       "       1.016    1.625 ... -0.014761092777777776 .. -80.51050556312248)>"
      ]
     },
     "execution_count": 61,
     "metadata": {},
     "output_type": "execute_result"
    }
   ],
   "source": [
    "jwst[\"meta\"][\"wcs\"]"
   ]
  },
  {
   "cell_type": "code",
   "execution_count": 62,
   "id": "cd8845a8-45ea-442e-9a4a-5fe02af31076",
   "metadata": {},
   "outputs": [
    {
     "data": {
      "text/plain": [
       "<CompoundModel(offset_0=1.016, offset_1=1.625, offset_2=1., offset_3=1., offset_4=-1024.5, offset_5=-1024.5, c0_0_7=0., c1_0_7=0.03082914, c2_0_7=-0.00000006, c3_0_7=0., c4_0_7=-0., c5_0_7=0., c0_1_7=0., c0_2_7=0.00000001, c0_3_7=-0., c0_4_7=-0., c0_5_7=0., c1_1_7=-0.00000016, c1_2_7=0., c1_3_7=-0., c1_4_7=-0., c2_1_7=0., c2_2_7=-0., c2_3_7=-0., c3_1_7=0., c3_2_7=-0., c4_1_7=0., c0_0_8=0., c1_0_8=0.00002005, c2_0_8=0.00000009, c3_0_8=0., c4_0_8=0., c5_0_8=-0., c0_1_8=0.03091744, c0_2_8=-0.00000008, c0_3_8=0., c0_4_8=0., c0_5_8=-0., c1_1_8=-0.00000008, c1_2_8=-0., c1_3_8=-0., c1_4_8=0., c2_1_8=0., c2_2_8=0., c2_3_8=-0., c3_1_8=0., c3_2_8=-0., c4_1_8=0., c0_0_10=0., c1_0_10=-0.99996951, c0_1_10=-0.0078089, c0_0_11=0., c1_0_11=-0.0078089, c0_1_11=0.99996951, offset_12=-54.5598065, offset_13=-457.731149, factor_15=0.00027778, factor_16=0.00027778, angles_18=[ -0.01476109,   0.12717271,   0.03968835, -69.48689121, -80.51050556])>"
      ]
     },
     "execution_count": 62,
     "metadata": {},
     "output_type": "execute_result"
    }
   ],
   "source": [
    "jwst[\"meta\"][\"wcs\"].forward_transform"
   ]
  },
  {
   "cell_type": "code",
   "execution_count": 63,
   "id": "58b1000a-7dd8-424f-8a71-61d218d1a6b3",
   "metadata": {},
   "outputs": [
    {
     "data": {
      "text/plain": [
       "array([[[1., 1., 1., 1.],\n",
       "        [1., 1., 1., 1.],\n",
       "        [1., 1., 1., 1.],\n",
       "        ...,\n",
       "        [1., 1., 1., 1.],\n",
       "        [1., 1., 1., 1.],\n",
       "        [1., 1., 1., 1.]],\n",
       "\n",
       "       [[1., 1., 1., 1.],\n",
       "        [1., 1., 1., 1.],\n",
       "        [1., 1., 1., 1.],\n",
       "        ...,\n",
       "        [1., 1., 1., 1.],\n",
       "        [1., 1., 1., 1.],\n",
       "        [1., 1., 1., 1.]],\n",
       "\n",
       "       [[1., 1., 1., 1.],\n",
       "        [1., 1., 1., 1.],\n",
       "        [1., 1., 1., 1.],\n",
       "        ...,\n",
       "        [1., 1., 1., 1.],\n",
       "        [1., 1., 1., 1.],\n",
       "        [1., 1., 1., 1.]],\n",
       "\n",
       "       ...,\n",
       "\n",
       "       [[1., 1., 1., 1.],\n",
       "        [1., 1., 1., 1.],\n",
       "        [1., 1., 1., 1.],\n",
       "        ...,\n",
       "        [1., 1., 1., 1.],\n",
       "        [1., 1., 1., 1.],\n",
       "        [1., 1., 1., 1.]],\n",
       "\n",
       "       [[1., 1., 1., 1.],\n",
       "        [1., 1., 1., 1.],\n",
       "        [1., 1., 1., 1.],\n",
       "        ...,\n",
       "        [1., 1., 1., 1.],\n",
       "        [1., 1., 1., 1.],\n",
       "        [1., 1., 1., 1.]],\n",
       "\n",
       "       [[1., 1., 1., 1.],\n",
       "        [1., 1., 1., 1.],\n",
       "        [1., 1., 1., 1.],\n",
       "        ...,\n",
       "        [1., 1., 1., 1.],\n",
       "        [1., 1., 1., 1.],\n",
       "        [1., 1., 1., 1.]]], dtype=float32)"
      ]
     },
     "execution_count": 63,
     "metadata": {},
     "output_type": "execute_result"
    }
   ],
   "source": [
    "data = jwst[\"data\"]\n",
    "data"
   ]
  },
  {
   "cell_type": "code",
   "execution_count": 64,
   "id": "a57973bc-f8d5-46a6-bb33-67a56b241e81",
   "metadata": {},
   "outputs": [
    {
     "data": {
      "text/plain": [
       "(333, 151, 4)"
      ]
     },
     "execution_count": 64,
     "metadata": {},
     "output_type": "execute_result"
    }
   ],
   "source": [
    "data.shape"
   ]
  },
  {
   "cell_type": "code",
   "execution_count": 65,
   "id": "6ebfeda2-d048-4442-b92c-82a577fdd81f",
   "metadata": {},
   "outputs": [],
   "source": [
    "import matplotlib.pyplot as plt\n",
    "%matplotlib inline"
   ]
  },
  {
   "cell_type": "code",
   "execution_count": 66,
   "id": "296b87fd-c14a-4ad0-adcf-8dae476c5597",
   "metadata": {},
   "outputs": [
    {
     "data": {
      "text/plain": [
       "4"
      ]
     },
     "execution_count": 66,
     "metadata": {},
     "output_type": "execute_result"
    }
   ],
   "source": [
    "data.shape[-1]"
   ]
  },
  {
   "cell_type": "code",
   "execution_count": 71,
   "id": "aae8b9d6-d28b-4abc-a862-57b74efec121",
   "metadata": {},
   "outputs": [
    {
     "data": {
      "image/png": "[encoded data removed]",
      "text/plain": [
       "<Figure size 1440x1440 with 4 Axes>"
      ]
     },
     "metadata": {
      "needs_background": "light"
     },
     "output_type": "display_data"
    }
   ],
   "source": [
    "fig = plt.figure(figsize=(20, 20))\n",
    "for i in range(data.shape[-1]):\n",
    "    plt.subplot(2, 2, i + 1)\n",
    "    plt.imshow(data[:, :, i])"
   ]
  },
  {
   "cell_type": "code",
   "execution_count": 69,
   "id": "bf43f0e2-d091-49e5-8163-7d11f13bf6b5",
   "metadata": {},
   "outputs": [],
   "source": [
    "jwst[\"data\"][0, 0] = 999"
   ]
  },
  {
   "cell_type": "code",
   "execution_count": 70,
   "id": "02c04dfa-a1ea-4136-bab7-88cbe81030eb",
   "metadata": {},
   "outputs": [
    {
     "data": {
      "text/plain": [
       "array([[[999., 999., 999., 999.],\n",
       "        [  1.,   1.,   1.,   1.],\n",
       "        [  1.,   1.,   1.,   1.],\n",
       "        ...,\n",
       "        [  1.,   1.,   1.,   1.],\n",
       "        [  1.,   1.,   1.,   1.],\n",
       "        [  1.,   1.,   1.,   1.]],\n",
       "\n",
       "       [[  1.,   1.,   1.,   1.],\n",
       "        [  1.,   1.,   1.,   1.],\n",
       "        [  1.,   1.,   1.,   1.],\n",
       "        ...,\n",
       "        [  1.,   1.,   1.,   1.],\n",
       "        [  1.,   1.,   1.,   1.],\n",
       "        [  1.,   1.,   1.,   1.]],\n",
       "\n",
       "       [[  1.,   1.,   1.,   1.],\n",
       "        [  1.,   1.,   1.,   1.],\n",
       "        [  1.,   1.,   1.,   1.],\n",
       "        ...,\n",
       "        [  1.,   1.,   1.,   1.],\n",
       "        [  1.,   1.,   1.,   1.],\n",
       "        [  1.,   1.,   1.,   1.]],\n",
       "\n",
       "       ...,\n",
       "\n",
       "       [[  1.,   1.,   1.,   1.],\n",
       "        [  1.,   1.,   1.,   1.],\n",
       "        [  1.,   1.,   1.,   1.],\n",
       "        ...,\n",
       "        [  1.,   1.,   1.,   1.],\n",
       "        [  1.,   1.,   1.,   1.],\n",
       "        [  1.,   1.,   1.,   1.]],\n",
       "\n",
       "       [[  1.,   1.,   1.,   1.],\n",
       "        [  1.,   1.,   1.,   1.],\n",
       "        [  1.,   1.,   1.,   1.],\n",
       "        ...,\n",
       "        [  1.,   1.,   1.,   1.],\n",
       "        [  1.,   1.,   1.,   1.],\n",
       "        [  1.,   1.,   1.,   1.]],\n",
       "\n",
       "       [[  1.,   1.,   1.,   1.],\n",
       "        [  1.,   1.,   1.,   1.],\n",
       "        [  1.,   1.,   1.,   1.],\n",
       "        ...,\n",
       "        [  1.,   1.,   1.,   1.],\n",
       "        [  1.,   1.,   1.,   1.],\n",
       "        [  1.,   1.,   1.,   1.]]], dtype=float32)"
      ]
     },
     "execution_count": 70,
     "metadata": {},
     "output_type": "execute_result"
    }
   ],
   "source": [
    "jwst[\"data\"]"
   ]
  },
  {
   "cell_type": "code",
   "execution_count": 53,
   "id": "9f9ff43e-4961-40b5-b447-4293f1419206",
   "metadata": {},
   "outputs": [],
   "source": [
    "s = \"\"\"\n",
    "%YAML 1.1\n",
    "---\n",
    "$schema: http://stsci.edu/schemas/yaml-schema/draft-01\n",
    "\n",
    "title: Mickey's pet\n",
    "description: |\n",
    "  Basic info and a picture of Mickie's \n",
    "  dog Pluto.\n",
    "\n",
    "type: object\n",
    "properties:\n",
    "  age:\n",
    "    title: The age of Pluto\n",
    "    type: object\n",
    "    properties:\n",
    "      birthday:\n",
    "        title: Pluto's first showing\n",
    "        tag: tag:stsci.edu:asdf/time/time-1.1.0\n",
    "  mass:\n",
    "    title: How much he weighs.\n",
    "    tag: tag:stsci.edu:asdf/unit/quantity-1.1.0\n",
    "  picture:\n",
    "    tag: tag:stsci.edu:asdf/core/ndarray-1.0.0\n",
    "  name:\n",
    "    title: Name\n",
    "    type: string\n",
    "required: [name, picture]\n",
    "...\n",
    "\"\"\""
   ]
  },
  {
   "cell_type": "code",
   "execution_count": 54,
   "id": "26c9f1bf-18c1-4b4d-9842-d06ce90bdf06",
   "metadata": {},
   "outputs": [],
   "source": [
    "f = open(\"pluto-1.0.2.yaml\", mode=\"w\")\n",
    "f.write(s)\n",
    "f.close()"
   ]
  },
  {
   "cell_type": "code",
   "execution_count": 55,
   "id": "e1a543fd-19b6-4363-8814-a62ace59e47e",
   "metadata": {},
   "outputs": [
    {
     "ename": "ValidationError",
     "evalue": "Additional properties are not allowed ('history', 'birthday', 'asdf_library' were unexpected)\n\nFailed validating 'additionalProperties' in schema:\n    {'$schema': 'http://stsci.edu/schemas/yaml-schema/draft-01',\n     'additionalProperties': False,\n     'description': \"Basic info and a picture of Mickie's \\ndog Pluto.\\n\",\n     'properties': {'age': {'properties': {'birthday': {'tag': 'tag:stsci.edu:asdf/time/time-1.1.0',\n                                                        'title': \"Pluto's \"\n                                                                 'first '\n                                                                 'showing'}},\n                            'title': 'The age of Pluto',\n                            'type': 'object'},\n                    'mass': {'tag': 'tag:stsci.edu:asdf/unit/quantity-1.1.0',\n                             'title': 'How much he weighs.'},\n                    'name': {'title': 'Name', 'type': 'string'},\n                    'picture': {'tag': 'tag:stsci.edu:asdf/core/ndarray-1.0.0'}},\n     'required': ['name', 'picture'],\n     'title': \"Mickey's pet\",\n     'type': 'object'}\n\nOn instance:\n    {'asdf_library': {'author': 'The ASDF Developers',\n                      'homepage': 'http://github.com/asdf-format/asdf',\n                      'name': 'asdf',\n                      'version': '2.12.0'},\n     'birthday': datetime.date(1930, 8, 17),\n     'history': {'extensions': [{'extension_class': 'asdf.extension.BuiltinExtension',\n                                 'software': {'name': 'asdf',\n                                              'version': '2.12.0'}},\n                                {'extension_class': 'asdf.extension._manifest.ManifestExtension',\n                                 'extension_uri': 'asdf://asdf-format.org/core/extensions/core-1.5.0',\n                                 'software': {'name': 'asdf-astropy',\n                                              'version': '0.2.1'}}]},\n     'mass': {'unit': 'kg', 'value': 10.0},\n     'name': 'Pluto',\n     'picture': {'byteorder': 'little',\n                 'datatype': 'float32',\n                 'shape': [333, 151, 4],\n                 'source': 0}}",
     "output_type": "error",
     "traceback": [
      "\u001b[0;31m---------------------------------------------------------------------------\u001b[0m",
      "\u001b[0;31mValidationError\u001b[0m                           Traceback (most recent call last)",
      "Input \u001b[0;32mIn [55]\u001b[0m, in \u001b[0;36m<cell line: 1>\u001b[0;34m()\u001b[0m\n\u001b[0;32m----> 1\u001b[0m afs \u001b[38;5;241m=\u001b[39m \u001b[43masdf\u001b[49m\u001b[38;5;241;43m.\u001b[39;49m\u001b[43mopen\u001b[49m\u001b[43m(\u001b[49m\u001b[38;5;124;43m\"\u001b[39;49m\u001b[38;5;124;43mpluto.asdf\u001b[39;49m\u001b[38;5;124;43m\"\u001b[39;49m\u001b[43m,\u001b[49m\u001b[43m \u001b[49m\u001b[43mcustom_schema\u001b[49m\u001b[38;5;241;43m=\u001b[39;49m\u001b[38;5;124;43m\"\u001b[39;49m\u001b[38;5;124;43m./pluto-1.0.1.yaml\u001b[39;49m\u001b[38;5;124;43m\"\u001b[39;49m\u001b[43m)\u001b[49m\n",
      "File \u001b[0;32m~/miniconda3/envs/asdf-tutorial-env/lib/python3.9/site-packages/asdf/asdf.py:1769\u001b[0m, in \u001b[0;36mopen_asdf\u001b[0;34m(fd, uri, mode, validate_checksums, extensions, ignore_version_mismatch, ignore_unrecognized_tag, _force_raw_types, copy_arrays, lazy_load, custom_schema, strict_extension_check, ignore_missing_extensions, _compat, **kwargs)\u001b[0m\n\u001b[1;32m   1758\u001b[0m     readonly \u001b[38;5;241m=\u001b[39m mode \u001b[38;5;241m==\u001b[39m \u001b[38;5;124m\"\u001b[39m\u001b[38;5;124mr\u001b[39m\u001b[38;5;124m\"\u001b[39m \u001b[38;5;129;01mand\u001b[39;00m \u001b[38;5;129;01mnot\u001b[39;00m copy_arrays\n\u001b[1;32m   1760\u001b[0m instance \u001b[38;5;241m=\u001b[39m AsdfFile(\n\u001b[1;32m   1761\u001b[0m     ignore_version_mismatch\u001b[38;5;241m=\u001b[39mignore_version_mismatch,\n\u001b[1;32m   1762\u001b[0m     ignore_unrecognized_tag\u001b[38;5;241m=\u001b[39mignore_unrecognized_tag,\n\u001b[0;32m   (...)\u001b[0m\n\u001b[1;32m   1766\u001b[0m     _readonly\u001b[38;5;241m=\u001b[39mreadonly,\n\u001b[1;32m   1767\u001b[0m )\n\u001b[0;32m-> 1769\u001b[0m \u001b[38;5;28;01mreturn\u001b[39;00m \u001b[43mAsdfFile\u001b[49m\u001b[38;5;241;43m.\u001b[39;49m\u001b[43m_open_impl\u001b[49m\u001b[43m(\u001b[49m\n\u001b[1;32m   1770\u001b[0m \u001b[43m    \u001b[49m\u001b[43minstance\u001b[49m\u001b[43m,\u001b[49m\n\u001b[1;32m   1771\u001b[0m \u001b[43m    \u001b[49m\u001b[43mfd\u001b[49m\u001b[43m,\u001b[49m\n\u001b[1;32m   1772\u001b[0m \u001b[43m    \u001b[49m\u001b[43muri\u001b[49m\u001b[38;5;241;43m=\u001b[39;49m\u001b[43muri\u001b[49m\u001b[43m,\u001b[49m\n\u001b[1;32m   1773\u001b[0m \u001b[43m    \u001b[49m\u001b[43mmode\u001b[49m\u001b[38;5;241;43m=\u001b[39;49m\u001b[43mmode\u001b[49m\u001b[43m,\u001b[49m\n\u001b[1;32m   1774\u001b[0m \u001b[43m    \u001b[49m\u001b[43mvalidate_checksums\u001b[49m\u001b[38;5;241;43m=\u001b[39;49m\u001b[43mvalidate_checksums\u001b[49m\u001b[43m,\u001b[49m\n\u001b[1;32m   1775\u001b[0m \u001b[43m    \u001b[49m\u001b[43mextensions\u001b[49m\u001b[38;5;241;43m=\u001b[39;49m\u001b[43mextensions\u001b[49m\u001b[43m,\u001b[49m\n\u001b[1;32m   1776\u001b[0m \u001b[43m    \u001b[49m\u001b[43m_force_raw_types\u001b[49m\u001b[38;5;241;43m=\u001b[39;49m\u001b[43m_force_raw_types\u001b[49m\u001b[43m,\u001b[49m\n\u001b[1;32m   1777\u001b[0m \u001b[43m    \u001b[49m\u001b[43mstrict_extension_check\u001b[49m\u001b[38;5;241;43m=\u001b[39;49m\u001b[43mstrict_extension_check\u001b[49m\u001b[43m,\u001b[49m\n\u001b[1;32m   1778\u001b[0m \u001b[43m    \u001b[49m\u001b[43mignore_missing_extensions\u001b[49m\u001b[38;5;241;43m=\u001b[39;49m\u001b[43mignore_missing_extensions\u001b[49m\u001b[43m,\u001b[49m\n\u001b[1;32m   1779\u001b[0m \u001b[43m    \u001b[49m\u001b[38;5;241;43m*\u001b[39;49m\u001b[38;5;241;43m*\u001b[39;49m\u001b[43mkwargs\u001b[49m\u001b[43m,\u001b[49m\n\u001b[1;32m   1780\u001b[0m \u001b[43m\u001b[49m\u001b[43m)\u001b[49m\n",
      "File \u001b[0;32m~/miniconda3/envs/asdf-tutorial-env/lib/python3.9/site-packages/asdf/asdf.py:942\u001b[0m, in \u001b[0;36mAsdfFile._open_impl\u001b[0;34m(cls, self, fd, uri, mode, validate_checksums, extensions, _get_yaml_content, _force_raw_types, strict_extension_check, ignore_missing_extensions, **kwargs)\u001b[0m\n\u001b[1;32m    936\u001b[0m         \u001b[38;5;28;01mraise\u001b[39;00m \u001b[38;5;167;01mValueError\u001b[39;00m(\n\u001b[1;32m    937\u001b[0m             \u001b[38;5;124m\"\u001b[39m\u001b[38;5;124mInput object does not appear to be an ASDF file. Cannot check \u001b[39m\u001b[38;5;124m\"\u001b[39m\n\u001b[1;32m    938\u001b[0m             \u001b[38;5;241m+\u001b[39m \u001b[38;5;124m\"\u001b[39m\u001b[38;5;124mif it is a FITS with ASDF extension because \u001b[39m\u001b[38;5;124m'\u001b[39m\u001b[38;5;124mastropy\u001b[39m\u001b[38;5;124m'\u001b[39m\u001b[38;5;124m is not \u001b[39m\u001b[38;5;124m\"\u001b[39m\n\u001b[1;32m    939\u001b[0m             \u001b[38;5;241m+\u001b[39m \u001b[38;5;124m\"\u001b[39m\u001b[38;5;124minstalled\u001b[39m\u001b[38;5;124m\"\u001b[39m\n\u001b[1;32m    940\u001b[0m         ) \u001b[38;5;28;01mfrom\u001b[39;00m \u001b[38;5;28mNone\u001b[39m\n\u001b[1;32m    941\u001b[0m \u001b[38;5;28;01melif\u001b[39;00m file_type \u001b[38;5;241m==\u001b[39m util\u001b[38;5;241m.\u001b[39mFileType\u001b[38;5;241m.\u001b[39mASDF:\n\u001b[0;32m--> 942\u001b[0m     \u001b[38;5;28;01mreturn\u001b[39;00m \u001b[38;5;28;43mcls\u001b[39;49m\u001b[38;5;241;43m.\u001b[39;49m\u001b[43m_open_asdf\u001b[49m\u001b[43m(\u001b[49m\n\u001b[1;32m    943\u001b[0m \u001b[43m        \u001b[49m\u001b[38;5;28;43mself\u001b[39;49m\u001b[43m,\u001b[49m\n\u001b[1;32m    944\u001b[0m \u001b[43m        \u001b[49m\u001b[43mgeneric_file\u001b[49m\u001b[43m,\u001b[49m\n\u001b[1;32m    945\u001b[0m \u001b[43m        \u001b[49m\u001b[43mvalidate_checksums\u001b[49m\u001b[38;5;241;43m=\u001b[39;49m\u001b[43mvalidate_checksums\u001b[49m\u001b[43m,\u001b[49m\n\u001b[1;32m    946\u001b[0m \u001b[43m        \u001b[49m\u001b[43mextensions\u001b[49m\u001b[38;5;241;43m=\u001b[39;49m\u001b[43mextensions\u001b[49m\u001b[43m,\u001b[49m\n\u001b[1;32m    947\u001b[0m \u001b[43m        \u001b[49m\u001b[43m_get_yaml_content\u001b[49m\u001b[38;5;241;43m=\u001b[39;49m\u001b[43m_get_yaml_content\u001b[49m\u001b[43m,\u001b[49m\n\u001b[1;32m    948\u001b[0m \u001b[43m        \u001b[49m\u001b[43m_force_raw_types\u001b[49m\u001b[38;5;241;43m=\u001b[39;49m\u001b[43m_force_raw_types\u001b[49m\u001b[43m,\u001b[49m\n\u001b[1;32m    949\u001b[0m \u001b[43m        \u001b[49m\u001b[43mstrict_extension_check\u001b[49m\u001b[38;5;241;43m=\u001b[39;49m\u001b[43mstrict_extension_check\u001b[49m\u001b[43m,\u001b[49m\n\u001b[1;32m    950\u001b[0m \u001b[43m        \u001b[49m\u001b[43mignore_missing_extensions\u001b[49m\u001b[38;5;241;43m=\u001b[39;49m\u001b[43mignore_missing_extensions\u001b[49m\u001b[43m,\u001b[49m\n\u001b[1;32m    951\u001b[0m \u001b[43m        \u001b[49m\u001b[38;5;241;43m*\u001b[39;49m\u001b[38;5;241;43m*\u001b[39;49m\u001b[43mkwargs\u001b[49m\u001b[43m,\u001b[49m\n\u001b[1;32m    952\u001b[0m \u001b[43m    \u001b[49m\u001b[43m)\u001b[49m\n\u001b[1;32m    953\u001b[0m \u001b[38;5;28;01melse\u001b[39;00m:\n\u001b[1;32m    954\u001b[0m     \u001b[38;5;28;01mraise\u001b[39;00m \u001b[38;5;167;01mValueError\u001b[39;00m(\u001b[38;5;124m\"\u001b[39m\u001b[38;5;124mInput object does not appear to be an ASDF file or a FITS with \u001b[39m\u001b[38;5;124m\"\u001b[39m \u001b[38;5;241m+\u001b[39m \u001b[38;5;124m\"\u001b[39m\u001b[38;5;124mASDF extension\u001b[39m\u001b[38;5;124m\"\u001b[39m)\n",
      "File \u001b[0;32m~/miniconda3/envs/asdf-tutorial-env/lib/python3.9/site-packages/asdf/asdf.py:879\u001b[0m, in \u001b[0;36mAsdfFile._open_asdf\u001b[0;34m(cls, self, fd, validate_checksums, extensions, _get_yaml_content, _force_raw_types, strict_extension_check, ignore_missing_extensions, **kwargs)\u001b[0m\n\u001b[1;32m    877\u001b[0m \u001b[38;5;28;01mif\u001b[39;00m get_config()\u001b[38;5;241m.\u001b[39mvalidate_on_read:\n\u001b[1;32m    878\u001b[0m     \u001b[38;5;28;01mtry\u001b[39;00m:\n\u001b[0;32m--> 879\u001b[0m         \u001b[38;5;28;43mself\u001b[39;49m\u001b[38;5;241;43m.\u001b[39;49m\u001b[43m_validate\u001b[49m\u001b[43m(\u001b[49m\u001b[43mtree\u001b[49m\u001b[43m,\u001b[49m\u001b[43m \u001b[49m\u001b[43mreading\u001b[49m\u001b[38;5;241;43m=\u001b[39;49m\u001b[38;5;28;43;01mTrue\u001b[39;49;00m\u001b[43m)\u001b[49m\n\u001b[1;32m    880\u001b[0m     \u001b[38;5;28;01mexcept\u001b[39;00m ValidationError:\n\u001b[1;32m    881\u001b[0m         \u001b[38;5;28mself\u001b[39m\u001b[38;5;241m.\u001b[39mclose()\n",
      "File \u001b[0;32m~/miniconda3/envs/asdf-tutorial-env/lib/python3.9/site-packages/asdf/asdf.py:622\u001b[0m, in \u001b[0;36mAsdfFile._validate\u001b[0;34m(self, tree, custom, reading)\u001b[0m\n\u001b[1;32m    620\u001b[0m \u001b[38;5;66;03m# Perform secondary validation pass if requested\u001b[39;00m\n\u001b[1;32m    621\u001b[0m \u001b[38;5;28;01mif\u001b[39;00m custom \u001b[38;5;129;01mand\u001b[39;00m \u001b[38;5;28mself\u001b[39m\u001b[38;5;241m.\u001b[39m_custom_schema:\n\u001b[0;32m--> 622\u001b[0m     \u001b[43mschema\u001b[49m\u001b[38;5;241;43m.\u001b[39;49m\u001b[43mvalidate\u001b[49m\u001b[43m(\u001b[49m\u001b[43mtagged_tree\u001b[49m\u001b[43m,\u001b[49m\u001b[43m \u001b[49m\u001b[38;5;28;43mself\u001b[39;49m\u001b[43m,\u001b[49m\u001b[43m \u001b[49m\u001b[38;5;28;43mself\u001b[39;49m\u001b[38;5;241;43m.\u001b[39;49m\u001b[43m_custom_schema\u001b[49m\u001b[43m,\u001b[49m\u001b[43m \u001b[49m\u001b[43mreading\u001b[49m\u001b[38;5;241;43m=\u001b[39;49m\u001b[43mreading\u001b[49m\u001b[43m)\u001b[49m\n",
      "File \u001b[0;32m~/miniconda3/envs/asdf-tutorial-env/lib/python3.9/site-packages/asdf/schema.py:662\u001b[0m, in \u001b[0;36mvalidate\u001b[0;34m(instance, ctx, schema, validators, reading, *args, **kwargs)\u001b[0m\n\u001b[1;32m    659\u001b[0m     ctx \u001b[38;5;241m=\u001b[39m AsdfFile()\n\u001b[1;32m    661\u001b[0m validator \u001b[38;5;241m=\u001b[39m get_validator(schema, ctx, validators, ctx\u001b[38;5;241m.\u001b[39mresolver, \u001b[38;5;241m*\u001b[39margs, \u001b[38;5;241m*\u001b[39m\u001b[38;5;241m*\u001b[39mkwargs)\n\u001b[0;32m--> 662\u001b[0m \u001b[43mvalidator\u001b[49m\u001b[38;5;241;43m.\u001b[39;49m\u001b[43mvalidate\u001b[49m\u001b[43m(\u001b[49m\u001b[43minstance\u001b[49m\u001b[43m)\u001b[49m\n\u001b[1;32m    664\u001b[0m additional_validators \u001b[38;5;241m=\u001b[39m [_validate_large_literals]\n\u001b[1;32m    665\u001b[0m \u001b[38;5;28;01mif\u001b[39;00m ctx\u001b[38;5;241m.\u001b[39mversion \u001b[38;5;241m>\u001b[39m\u001b[38;5;241m=\u001b[39m versioning\u001b[38;5;241m.\u001b[39mRESTRICTED_KEYS_MIN_VERSION:\n",
      "File \u001b[0;32m~/miniconda3/envs/asdf-tutorial-env/lib/python3.9/site-packages/jsonschema/validators.py:254\u001b[0m, in \u001b[0;36mcreate.<locals>.Validator.validate\u001b[0;34m(self, *args, **kwargs)\u001b[0m\n\u001b[1;32m    252\u001b[0m \u001b[38;5;28;01mdef\u001b[39;00m \u001b[38;5;21mvalidate\u001b[39m(\u001b[38;5;28mself\u001b[39m, \u001b[38;5;241m*\u001b[39margs, \u001b[38;5;241m*\u001b[39m\u001b[38;5;241m*\u001b[39mkwargs):\n\u001b[1;32m    253\u001b[0m     \u001b[38;5;28;01mfor\u001b[39;00m error \u001b[38;5;129;01min\u001b[39;00m \u001b[38;5;28mself\u001b[39m\u001b[38;5;241m.\u001b[39miter_errors(\u001b[38;5;241m*\u001b[39margs, \u001b[38;5;241m*\u001b[39m\u001b[38;5;241m*\u001b[39mkwargs):\n\u001b[0;32m--> 254\u001b[0m         \u001b[38;5;28;01mraise\u001b[39;00m error\n",
      "\u001b[0;31mValidationError\u001b[0m: Additional properties are not allowed ('history', 'birthday', 'asdf_library' were unexpected)\n\nFailed validating 'additionalProperties' in schema:\n    {'$schema': 'http://stsci.edu/schemas/yaml-schema/draft-01',\n     'additionalProperties': False,\n     'description': \"Basic info and a picture of Mickie's \\ndog Pluto.\\n\",\n     'properties': {'age': {'properties': {'birthday': {'tag': 'tag:stsci.edu:asdf/time/time-1.1.0',\n                                                        'title': \"Pluto's \"\n                                                                 'first '\n                                                                 'showing'}},\n                            'title': 'The age of Pluto',\n                            'type': 'object'},\n                    'mass': {'tag': 'tag:stsci.edu:asdf/unit/quantity-1.1.0',\n                             'title': 'How much he weighs.'},\n                    'name': {'title': 'Name', 'type': 'string'},\n                    'picture': {'tag': 'tag:stsci.edu:asdf/core/ndarray-1.0.0'}},\n     'required': ['name', 'picture'],\n     'title': \"Mickey's pet\",\n     'type': 'object'}\n\nOn instance:\n    {'asdf_library': {'author': 'The ASDF Developers',\n                      'homepage': 'http://github.com/asdf-format/asdf',\n                      'name': 'asdf',\n                      'version': '2.12.0'},\n     'birthday': datetime.date(1930, 8, 17),\n     'history': {'extensions': [{'extension_class': 'asdf.extension.BuiltinExtension',\n                                 'software': {'name': 'asdf',\n                                              'version': '2.12.0'}},\n                                {'extension_class': 'asdf.extension._manifest.ManifestExtension',\n                                 'extension_uri': 'asdf://asdf-format.org/core/extensions/core-1.5.0',\n                                 'software': {'name': 'asdf-astropy',\n                                              'version': '0.2.1'}}]},\n     'mass': {'unit': 'kg', 'value': 10.0},\n     'name': 'Pluto',\n     'picture': {'byteorder': 'little',\n                 'datatype': 'float32',\n                 'shape': [333, 151, 4],\n                 'source': 0}}"
     ]
    }
   ],
   "source": [
    "afs = asdf.open(\"pluto.asdf\", custom_schema=\"./pluto-1.0.1.yaml\")"
   ]
  },
  {
   "cell_type": "code",
   "execution_count": null,
   "id": "dfdd1e52-5720-4f25-ba04-7694982c9146",
   "metadata": {},
   "outputs": [],
   "source": []
  }
 ],
 "metadata": {
  "kernelspec": {
   "display_name": "Python [conda env:asdf-tutorial-env]",
   "language": "python",
   "name": "conda-env-asdf-tutorial-env-py"
  },
  "language_info": {
   "codemirror_mode": {
    "name": "ipython",
    "version": 3
   },
   "file_extension": ".py",
   "mimetype": "text/x-python",
   "name": "python",
   "nbconvert_exporter": "python",
   "pygments_lexer": "ipython3",
   "version": "3.9.12"
  }
 },
 "nbformat": 4,
 "nbformat_minor": 5
}
