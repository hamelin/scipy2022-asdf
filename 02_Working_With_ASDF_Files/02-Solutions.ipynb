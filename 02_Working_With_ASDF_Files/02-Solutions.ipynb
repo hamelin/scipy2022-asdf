{
 "cells": [
  {
   "cell_type": "markdown",
   "id": "14199d87",
   "metadata": {},
   "source": [
    "### Solutions for 02-Working_with_ASDF_Files"
   ]
  },
  {
   "cell_type": "markdown",
   "id": "b6eb18c8",
   "metadata": {},
   "source": [
    "**Exercise 1:**\n",
    "\n",
    "- Open the file `jwst.asdf` in the `02_Working_With_ASDF_Files` directory. Look at the `info` method's help and   display the file using some of the arguments to show more contents.\n",
    "- Search for a few attributes - `wcs`, `data`, (WCS stands for World Coordinate System. In astronomy it represents the transform from pixel coordinates to sky coordinates or some physical system.)\n",
    "- Retrieve the `wcs` object following the path showed by the `search` method\n",
    "- Look at the `wcs` object and print `wcs.forward_transform`\n",
    "- Use matplotlib to display the data array\n",
    "- Look at the `data` array and modify the value of `data[0, 0]`  to 999."
   ]
  },
  {
   "cell_type": "code",
   "execution_count": 1,
   "id": "451830c9",
   "metadata": {},
   "outputs": [],
   "source": [
    "import asdf"
   ]
  },
  {
   "cell_type": "markdown",
   "id": "d78dde36",
   "metadata": {},
   "source": [
    "**Read the file and use the `info` method to look at the contents**.\n",
    "\n",
    "`info` has arguments which control the behavior. Use the defaults to look at the contents of the file."
   ]
  },
  {
   "cell_type": "code",
   "execution_count": 12,
   "id": "6b67338a",
   "metadata": {},
   "outputs": [],
   "source": [
    "af = asdf.open(\"jwst.asdf\", mode=\"rw\")"
   ]
  },
  {
   "cell_type": "code",
   "execution_count": 13,
   "id": "8819736d",
   "metadata": {},
   "outputs": [
    {
     "name": "stdout",
     "output_type": "stream",
     "text": [
      "\u001b[1mroot\u001b[0m (AsdfObject)\n",
      "\u001b[2m├─\u001b[0m\u001b[1masdf_library\u001b[0m (Software)\n",
      "\u001b[2m│ ├─\u001b[0m\u001b[1mauthor\u001b[0m (str): The ASDF Developers\n",
      "\u001b[2m│ ├─\u001b[0m\u001b[1mhomepage\u001b[0m (str): http://github.com/asdf-format/asdf\n",
      "\u001b[2m│ ├─\u001b[0m\u001b[1mname\u001b[0m (str): asdf\n",
      "\u001b[2m│ └─\u001b[0m\u001b[1mversion\u001b[0m (str): 2.12.0\n",
      "\u001b[2m├─\u001b[0m\u001b[1mhistory\u001b[0m (dict)\n",
      "\u001b[2m│ └─\u001b[0m\u001b[1mextensions\u001b[0m (list)\n",
      "\u001b[2m│   ├─\u001b[0m[\u001b[1m0\u001b[0m] (ExtensionMetadata)\u001b[3m ...\u001b[0m\n",
      "\u001b[2m│   ├─\u001b[0m[\u001b[1m1\u001b[0m] (ExtensionMetadata)\u001b[3m ...\u001b[0m\n",
      "\u001b[2m│   ├─\u001b[0m[\u001b[1m2\u001b[0m] (ExtensionMetadata)\u001b[3m ...\u001b[0m\n",
      "\u001b[2m│   ├─\u001b[0m[\u001b[1m3\u001b[0m] (ExtensionMetadata)\u001b[3m ...\u001b[0m\n",
      "\u001b[2m│   └─\u001b[0m[\u001b[1m4\u001b[0m] (ExtensionMetadata)\u001b[3m ...\u001b[0m\n",
      "\u001b[2m├─\u001b[0m\u001b[1mdata\u001b[0m (NDArrayType): shape=(333, 151, 4), dtype=float32\n",
      "\u001b[2m└─\u001b[0m\u001b[1mmeta\u001b[0m (dict)\n",
      "\u001b[2m  ├─\u001b[0m\u001b[1maperture\u001b[0m (dict)\n",
      "\u001b[2m  │ └─\u001b[0m\u001b[1mname\u001b[0m (str): NRCB3_FULL\n",
      "\u001b[2m  ├─\u001b[0m\u001b[1mbunit_data\u001b[0m (str): DN/s\n",
      "\u001b[2m  ├─\u001b[0m\u001b[1mbunit_err\u001b[0m (str): DN/s\n",
      "\u001b[2m  ├─\u001b[0m\u001b[1mcal_step\u001b[0m (dict)\n",
      "\u001b[2m  │ ├─\u001b[0m\u001b[1massign_wcs\u001b[0m (str): COMPLETE\n",
      "\u001b[2m  │ ├─\u001b[0m\u001b[1mdark_sub\u001b[0m (str): COMPLETE\n",
      "\u001b[2m  │ ├─\u001b[0m\u001b[1mdq_init\u001b[0m (str): COMPLETE\n",
      "\u001b[2m  │ ├─\u001b[0m\u001b[1mgain_scale\u001b[0m (str): SKIPPED\n",
      "\u001b[2m  │ ├─\u001b[0m\u001b[1mgroup_scale\u001b[0m (str): SKIPPED\n",
      "\u001b[2m  │ ├─\u001b[0m\u001b[1mipc\u001b[0m (str): COMPLETE\n",
      "\u001b[2m  │ ├─\u001b[0m\u001b[1mjump\u001b[0m (str): COMPLETE\n",
      "\u001b[2m  │ ├─\u001b[0m\u001b[1mlinearity\u001b[0m (str): COMPLETE\n",
      "\u001b[2m  │ ├─\u001b[0m\u001b[1mramp_fit\u001b[0m (str): COMPLETE\n",
      "\u001b[2m  │ ├─\u001b[0m\u001b[1mrefpix\u001b[0m (str): COMPLETE\n",
      "\u001b[2m  │ ├─\u001b[0m\u001b[1msaturation\u001b[0m (str): COMPLETE\n",
      "\u001b[2m  │ └─\u001b[0m\u001b[1msuperbias\u001b[0m (str): COMPLETE\n",
      "\u001b[2m  ├─\u001b[0m\u001b[1mcalibration_software_revision\u001b[0m (str): RELEASE\n",
      "\u001b[2m  ├─\u001b[0m\u001b[1mcalibration_software_version\u001b[0m (str): 1.5.1a0\n",
      "\u001b[2m  ├─\u001b[0m\u001b[1mcoordinates\u001b[0m (dict)\n",
      "\u001b[2m  │ └─\u001b[0m\u001b[1mreference_frame\u001b[0m (str): ICRS\n",
      "\u001b[2m  ├─\u001b[0m\u001b[1mdate\u001b[0m (str): 2022-07-06T19:12:06.394\n",
      "\u001b[2m  ├─\u001b[0m\u001b[1mdither\u001b[0m (dict)\n",
      "\u001b[2m  │ ├─\u001b[0m\u001b[1mpattern_size\u001b[0m (str): DEFAULT\n",
      "\u001b[2m  │ ├─\u001b[0m\u001b[1mposition_number\u001b[0m (int): 1\n",
      "\u001b[2m  │ ├─\u001b[0m\u001b[1mprimary_type\u001b[0m (str): NONE\n",
      "\u001b[2m  │ ├─\u001b[0m\u001b[1msubpixel_total_points\u001b[0m (int): 1\n",
      "\u001b[2m  │ ├─\u001b[0m\u001b[1mtotal_points\u001b[0m (int): 1\n",
      "\u001b[2m  │ ├─\u001b[0m\u001b[1mx_offset\u001b[0m (float): 0.0\n",
      "\u001b[2m  │ └─\u001b[0m\u001b[1my_offset\u001b[0m (float): 0.0\n",
      "\u001b[2m  ├─\u001b[0m\u001b[1mexposure\u001b[0m (dict)\n",
      "\u001b[2m  │ ├─\u001b[0m\u001b[1mduration\u001b[0m (float): 75.15739000000002\n",
      "\u001b[2m  │ ├─\u001b[0m\u001b[1mend_time\u001b[0m (float): 59856.04470868772\n",
      "\u001b[2m  │ ├─\u001b[0m\u001b[1mexposure_time\u001b[0m (float): 64.42062000000001\n",
      "\u001b[2m  │ ├─\u001b[0m\u001b[1mframe_time\u001b[0m (float): 10.73677\n",
      "\u001b[2m  │ ├─\u001b[0m\u001b[1mgroup_time\u001b[0m (float): 10.73677\n",
      "\u001b[2m  │ ├─\u001b[0m\u001b[1mgroupgap\u001b[0m (int): 0\n",
      "\u001b[2m  │ ├─\u001b[0m\u001b[1mintegration_end\u001b[0m (int): 0\n",
      "\u001b[2m  │ ├─\u001b[0m\u001b[1mintegration_start\u001b[0m (int): 1\n",
      "\u001b[2m  │ ├─\u001b[0m\u001b[1mintegration_time\u001b[0m (float): 32.21031000000001\n",
      "\u001b[2m  │ ├─\u001b[0m\u001b[1mmid_time\u001b[0m (float): 59856.04433588321\n",
      "\u001b[2m  │ ├─\u001b[0m\u001b[1mnframes\u001b[0m (int): 1\n",
      "\u001b[2m  │ ├─\u001b[0m\u001b[1mngroups\u001b[0m (int): 3\n",
      "\u001b[2m  │ ├─\u001b[0m\u001b[1mnints\u001b[0m (int): 2\n",
      "\u001b[2m  │ ├─\u001b[0m\u001b[1mnresets_at_start\u001b[0m (int): 1\n",
      "\u001b[2m  │ ├─\u001b[0m\u001b[1mnresets_between_ints\u001b[0m (int): 1\n",
      "\u001b[2m  │ ├─\u001b[0m\u001b[1mreadpatt\u001b[0m (str): RAPID\n",
      "\u001b[2m  │ ├─\u001b[0m\u001b[1msample_time\u001b[0m (int): 10\n",
      "\u001b[2m  │ ├─\u001b[0m\u001b[1mstart_time\u001b[0m (float): 59856.0439630787\n",
      "\u001b[2m  │ └─\u001b[0m\u001b[1mtype\u001b[0m (str): NRC_IMAGE\n",
      "\u001b[2m  ├─\u001b[0m\u001b[1mfilename\u001b[0m (str): bryan.asdf\n",
      "\u001b[2m  ├─\u001b[0m\u001b[1mfiletype\u001b[0m (str): countrate\n",
      "\u001b[2m  ├─\u001b[0m\u001b[1minstrument\u001b[0m (dict)\n",
      "\u001b[2m  │ ├─\u001b[0m\u001b[1mchannel\u001b[0m (str): SHORT\n",
      "\u001b[2m  │ ├─\u001b[0m\u001b[1mdetector\u001b[0m (str): NRCB3\n",
      "\u001b[2m  │ ├─\u001b[0m\u001b[1mfilter\u001b[0m (str): F200W\n",
      "\u001b[2m  │ ├─\u001b[0m\u001b[1mlamp_mode\u001b[0m (str): NONE\n",
      "\u001b[2m  │ ├─\u001b[0m\u001b[1mmodule\u001b[0m (str): B\n",
      "\u001b[2m  │ ├─\u001b[0m\u001b[1mname\u001b[0m (str): NIRCAM\n",
      "\u001b[2m  │ └─\u001b[0m\u001b[1mpupil\u001b[0m (str): CLEAR\n",
      "\u001b[2m  ├─\u001b[0m\u001b[1mmodel_type\u001b[0m (str): ImageModel\n",
      "\u001b[2m  ├─\u001b[0m\u001b[1mobservation\u001b[0m (dict)\n",
      "\u001b[2m  │ ├─\u001b[0m\u001b[1mactivity_id\u001b[0m (str): 01\n",
      "\u001b[2m  │ ├─\u001b[0m\u001b[1mdate\u001b[0m (str): 2022-10-04\n",
      "\u001b[2m  │ ├─\u001b[0m\u001b[1mexposure_number\u001b[0m (str): 00001\n",
      "\u001b[2m  │ ├─\u001b[0m\u001b[1mobs_id\u001b[0m (str): V01068004001P0000000001101\n",
      "\u001b[2m  │ ├─\u001b[0m\u001b[1mobservation_label\u001b[0m (str): full\n",
      "\u001b[2m  │ ├─\u001b[0m\u001b[1mobservation_number\u001b[0m (str): 004\n",
      "\u001b[2m  │ ├─\u001b[0m\u001b[1mprogram_number\u001b[0m (str): 01068\n",
      "\u001b[2m  │ ├─\u001b[0m\u001b[1msequence_id\u001b[0m (str): 1\n",
      "\u001b[2m  │ ├─\u001b[0m\u001b[1mtime\u001b[0m (str): 01:03:18.410\n",
      "\u001b[2m  │ ├─\u001b[0m\u001b[1mvisit_group\u001b[0m (str): 01\n",
      "\u001b[2m  │ ├─\u001b[0m\u001b[1mvisit_id\u001b[0m (str): 01068004001\n",
      "\u001b[2m  │ └─\u001b[0m\u001b[1mvisit_number\u001b[0m (str): 001\n",
      "\u001b[2m  ├─\u001b[0m\u001b[1morigin\u001b[0m (str): STScI\n",
      "\u001b[2m  ├─\u001b[0m\u001b[1mpointing\u001b[0m (dict)\n",
      "\u001b[2m  │ ├─\u001b[0m\u001b[1mdec_v1\u001b[0m (float): -69.35972365416258\n",
      "\u001b[2m  │ ├─\u001b[0m\u001b[1mpa_v3\u001b[0m (float): 0.0\n",
      "\u001b[2m  │ └─\u001b[0m\u001b[1mra_v1\u001b[0m (float): 80.55263095336085\n",
      "\u001b[2m  ├─\u001b[0m\u001b[1mprogram\u001b[0m (dict)\n",
      "\u001b[2m  │ ├─\u001b[0m\u001b[1mcategory\u001b[0m (str): GO\n",
      "\u001b[2m  │ ├─\u001b[0m\u001b[1mcontinuation_id\u001b[0m (int): 0\n",
      "\u001b[2m  │ ├─\u001b[0m\u001b[1mpi_name\u001b[0m (str): Bryan Hilbert\n",
      "\u001b[2m  │ ├─\u001b[0m\u001b[1mscience_category\u001b[0m (str): Planets and Planet Formation\n",
      "\u001b[2m  │ ├─\u001b[0m\u001b[1msub_category\u001b[0m (str): UNKNOWN\n",
      "\u001b[2m  │ └─\u001b[0m\u001b[1mtitle\u001b[0m (str): NIRCam Subarray-Mode Commissioning, CAR NIRCam-019\n",
      "\u001b[2m  ├─\u001b[0m\u001b[1mref_file\u001b[0m (dict)\n",
      "\u001b[2m  │ ├─\u001b[0m\u001b[1mcamera\u001b[0m (dict)\u001b[3m ...\u001b[0m\n",
      "\u001b[2m  │ ├─\u001b[0m\u001b[1mcollimator\u001b[0m (dict)\u001b[3m ...\u001b[0m\n",
      "\u001b[2m  │ ├─\u001b[0m\u001b[1mcrds\u001b[0m (dict)\u001b[3m ...\u001b[0m\n",
      "\u001b[2m  │ ├─\u001b[0m\u001b[1mdark\u001b[0m (dict)\u001b[3m ...\u001b[0m\n",
      "\u001b[2m  │ ├─\u001b[0m\u001b[1mdisperser\u001b[0m (dict)\u001b[3m ...\u001b[0m\n",
      "\u001b[2m  │ ├─\u001b[0m\u001b[1mdistortion\u001b[0m (dict)\u001b[3m ...\u001b[0m\n",
      "\u001b[2m  │ ├─\u001b[0m\u001b[1mfilteroffset\u001b[0m (dict)\u001b[3m ...\u001b[0m\n",
      "\u001b[2m  │ ├─\u001b[0m\u001b[1mfore\u001b[0m (dict)\u001b[3m ...\u001b[0m\n",
      "\u001b[2m  │ ├─\u001b[0m\u001b[1mfpa\u001b[0m (dict)\u001b[3m ...\u001b[0m\n",
      "\u001b[2m  │ ├─\u001b[0m\u001b[1mgain\u001b[0m (dict)\u001b[3m ...\u001b[0m\n",
      "\u001b[2m  │ ├─\u001b[0m\u001b[1mifufore\u001b[0m (dict)\u001b[3m ...\u001b[0m\n",
      "\u001b[2m  │ ├─\u001b[0m\u001b[1mifupost\u001b[0m (dict)\u001b[3m ...\u001b[0m\n",
      "\u001b[2m  │ ├─\u001b[0m\u001b[1mifuslicer\u001b[0m (dict)\u001b[3m ...\u001b[0m\n",
      "\u001b[2m  │ ├─\u001b[0m\u001b[1mipc\u001b[0m (dict)\u001b[3m ...\u001b[0m\n",
      "\u001b[2m  │ ├─\u001b[0m\u001b[1mlinearity\u001b[0m (dict)\u001b[3m ...\u001b[0m\n",
      "\u001b[2m  │ ├─\u001b[0m\u001b[1mmask\u001b[0m (dict)\u001b[3m ...\u001b[0m\n",
      "\u001b[2m  │ ├─\u001b[0m\u001b[1mmsa\u001b[0m (dict)\u001b[3m ...\u001b[0m\n",
      "\u001b[2m  │ ├─\u001b[0m\u001b[1mote\u001b[0m (dict)\u001b[3m ...\u001b[0m\n",
      "\u001b[2m  │ ├─\u001b[0m\u001b[1mreadnoise\u001b[0m (dict)\u001b[3m ...\u001b[0m\n",
      "\u001b[2m  │ ├─\u001b[0m\u001b[1mregions\u001b[0m (dict)\u001b[3m ...\u001b[0m\n",
      "\u001b[2m  │ ├─\u001b[0m\u001b[1msaturation\u001b[0m (dict)\u001b[3m ...\u001b[0m\n",
      "\u001b[2m  │ ├─\u001b[0m\u001b[1mspecwcs\u001b[0m (dict)\u001b[3m ...\u001b[0m\n",
      "\u001b[2m  │ ├─\u001b[0m\u001b[1msuperbias\u001b[0m (dict)\u001b[3m ...\u001b[0m\n",
      "\u001b[2m  │ └─\u001b[0m\u001b[1mwavelengthrange\u001b[0m (dict)\u001b[3m ...\u001b[0m\n",
      "\u001b[2m  ├─\u001b[0m\u001b[1msubarray\u001b[0m (dict)\n",
      "\u001b[2m  │ ├─\u001b[0m\u001b[1mfastaxis\u001b[0m (int): 1\n",
      "\u001b[2m  │ ├─\u001b[0m\u001b[1mname\u001b[0m (str): FULL\n",
      "\u001b[2m  │ ├─\u001b[0m\u001b[1mslowaxis\u001b[0m (int): -2\n",
      "\u001b[2m  │ ├─\u001b[0m\u001b[1mxsize\u001b[0m (int): 2048\n",
      "\u001b[2m  │ ├─\u001b[0m\u001b[1mxstart\u001b[0m (int): 1\n",
      "\u001b[2m  │ ├─\u001b[0m\u001b[1mysize\u001b[0m (int): 2048\n",
      "\u001b[2m  │ └─\u001b[0m\u001b[1mystart\u001b[0m (int): 1\n",
      "\u001b[2m  ├─\u001b[0m\u001b[1mtarget\u001b[0m (dict)\n",
      "\u001b[2m  │ ├─\u001b[0m\u001b[1mcatalog_name\u001b[0m (str): UNKNOWN\n",
      "\u001b[2m  │ ├─\u001b[0m\u001b[1mdec\u001b[0m (float): -69.4975\n",
      "\u001b[2m  │ ├─\u001b[0m\u001b[1mproposer_name\u001b[0m (str): LMC-ASTROMETRIC-FIELD\n",
      "\u001b[2m  │ └─\u001b[0m\u001b[1mra\u001b[0m (float): 80.4875\n",
      "\u001b[2m  ├─\u001b[0m\u001b[1mtelescope\u001b[0m (str): JWST\n",
      "\u001b[2m  ├─\u001b[0m\u001b[1mvelocity_aberration\u001b[0m (dict)\n",
      "\u001b[2m  ├─\u001b[0m\u001b[1mvisit\u001b[0m (dict)\n",
      "\u001b[2m  │ └─\u001b[0m\u001b[1mtsovisit\u001b[0m (bool): False\n",
      "\u001b[2m  ├─\u001b[0m\u001b[1mwcs\u001b[0m (WCS)\n",
      "\u001b[2m  └─\u001b[0m\u001b[1mwcsinfo\u001b[0m (dict)\n",
      "\u001b[2m    ├─\u001b[0m\u001b[1ma_0_2\u001b[0m (float): 4.10786224751292e-07\n",
      "\u001b[2m    ├─\u001b[0m\u001b[1ma_0_3\u001b[0m (float): 4.5597571740988864e-12\n",
      "\u001b[2m    ├─\u001b[0m\u001b[1ma_1_1\u001b[0m (float): -5.311311377905937e-06\n",
      "\u001b[2m    ├─\u001b[0m\u001b[1ma_1_2\u001b[0m (float): 3.932554127361509e-10\n",
      "\u001b[2m    ├─\u001b[0m\u001b[1ma_2_0\u001b[0m (float): -2.0404474991547877e-06\n",
      "\u001b[2m    ├─\u001b[0m\u001b[1ma_2_1\u001b[0m (float): 1.3508782337292761e-11\n",
      "\u001b[2m    ├─\u001b[0m\u001b[1ma_3_0\u001b[0m (float): 3.0602745848644144e-10\n",
      "\u001b[2m    ├─\u001b[0m\u001b[1ma_order\u001b[0m (int): 3\n",
      "\u001b[2m    ├─\u001b[0m\u001b[1map_0_1\u001b[0m (float): -1.319676989713682e-07\n",
      "\u001b[2m    ├─\u001b[0m\u001b[1map_0_2\u001b[0m (float): -4.116435120773621e-07\n",
      "\u001b[2m    ├─\u001b[0m\u001b[1map_0_3\u001b[0m (float): -8.65218176924358e-12\n",
      "\u001b[2m    ├─\u001b[0m\u001b[1map_1_0\u001b[0m (float): -3.3143421752605844e-07\n",
      "\u001b[2m    ├─\u001b[0m\u001b[1map_1_1\u001b[0m (float): 5.301983584803871e-06\n",
      "\u001b[2m    ├─\u001b[0m\u001b[1map_1_2\u001b[0m (float): -3.5453364577744025e-10\n",
      "\u001b[2m    ├─\u001b[0m\u001b[1map_2_0\u001b[0m (float): 2.036350474015355e-06\n",
      "\u001b[2m    ├─\u001b[0m\u001b[1map_2_1\u001b[0m (float): 3.466608092112541e-11\n",
      "\u001b[2m    ├─\u001b[0m\u001b[1map_3_0\u001b[0m (float): -3.119206990288054e-10\n",
      "\u001b[2m    ├─\u001b[0m\u001b[1map_order\u001b[0m (int): 3\n",
      "\u001b[2m    ├─\u001b[0m\u001b[1mb_0_2\u001b[0m (float): -2.546343990709792e-06\n",
      "\u001b[2m    ├─\u001b[0m\u001b[1mb_0_3\u001b[0m (float): 3.222873355343663e-10\n",
      "\u001b[2m    ├─\u001b[0m\u001b[1mb_1_1\u001b[0m (float): -2.5386846865929164e-06\n",
      "\u001b[2m    ├─\u001b[0m\u001b[1mb_1_2\u001b[0m (float): -4.492883143411503e-12\n",
      "\u001b[2m    ├─\u001b[0m\u001b[1mb_2_0\u001b[0m (float): 2.8088418093435003e-06\n",
      "\u001b[2m    ├─\u001b[0m\u001b[1mb_2_1\u001b[0m (float): 3.452098417086193e-10\n",
      "\u001b[2m    ├─\u001b[0m\u001b[1mb_3_0\u001b[0m (float): -2.891123392157965e-11\n",
      "\u001b[2m    ├─\u001b[0m\u001b[1mb_order\u001b[0m (int): 3\n",
      "\u001b[2m    ├─\u001b[0m\u001b[1mbp_0_1\u001b[0m (float): -2.693286811688369e-07\n",
      "\u001b[2m    ├─\u001b[0m\u001b[1mbp_0_2\u001b[0m (float): 2.541878842254892e-06\n",
      "\u001b[2m    ├─\u001b[0m\u001b[1mbp_0_3\u001b[0m (float): -3.0982207947585456e-10\n",
      "\u001b[2m    ├─\u001b[0m\u001b[1mbp_1_0\u001b[0m (float): 7.946418527457379e-08\n",
      "\u001b[2m    ├─\u001b[0m\u001b[1mbp_1_1\u001b[0m (float): 2.5337736277582956e-06\n",
      "\u001b[2m    ├─\u001b[0m\u001b[1mbp_1_2\u001b[0m (float): 3.947454575672124e-11\n",
      "\u001b[2m    ├─\u001b[0m\u001b[1mbp_2_0\u001b[0m (float): -2.8066570970907887e-06\n",
      "\u001b[2m    ├─\u001b[0m\u001b[1mbp_2_1\u001b[0m (float): -3.767984584848413e-10\n",
      "\u001b[2m    ├─\u001b[0m\u001b[1mbp_3_0\u001b[0m (float): 1.0302600105229713e-11\n",
      "\u001b[2m    ├─\u001b[0m\u001b[1mbp_order\u001b[0m (int): 3\n",
      "\u001b[2m    ├─\u001b[0m\u001b[1mcd1_1\u001b[0m (float): -8.5634095378338e-06\n",
      "\u001b[2m    ├─\u001b[0m\u001b[1mcd1_2\u001b[0m (float): -6.0862590880122e-08\n",
      "\u001b[2m    ├─\u001b[0m\u001b[1mcd2_1\u001b[0m (float): -5.5183685436991e-08\n",
      "\u001b[2m    ├─\u001b[0m\u001b[1mcd2_2\u001b[0m (float): 8.5880032733709e-06\n",
      "\u001b[2m    ├─\u001b[0m\u001b[1mcrpix1\u001b[0m (float): 1024.5\n",
      "\u001b[2m    ├─\u001b[0m\u001b[1mcrpix2\u001b[0m (float): 1024.5\n",
      "\u001b[2m    ├─\u001b[0m\u001b[1mcrval1\u001b[0m (float): 80.509354979368\n",
      "\u001b[2m    ├─\u001b[0m\u001b[1mcrval2\u001b[0m (float): -69.486851872448\n",
      "\u001b[2m    ├─\u001b[0m\u001b[1mctype1\u001b[0m (str): RA---TAN-SIP\n",
      "\u001b[2m    ├─\u001b[0m\u001b[1mctype2\u001b[0m (str): DEC--TAN-SIP\n",
      "\u001b[2m    ├─\u001b[0m\u001b[1mcunit1\u001b[0m (str): deg\n",
      "\u001b[2m    ├─\u001b[0m\u001b[1mcunit2\u001b[0m (str): deg\n",
      "\u001b[2m    ├─\u001b[0m\u001b[1mdec_ref\u001b[0m (float): -69.48689121270709\n",
      "\u001b[2m    ├─\u001b[0m\u001b[1mlatpole\u001b[0m (float): -69.486851872448\n",
      "\u001b[2m    ├─\u001b[0m\u001b[1mlonpole\u001b[0m (float): 180.0\n",
      "\u001b[2m    ├─\u001b[0m\u001b[1mmjdref\u001b[0m (float): 0.0\n",
      "\u001b[2m    ├─\u001b[0m\u001b[1mra_ref\u001b[0m (float): 80.51050556312248\n",
      "\u001b[2m    └─\u001b[0m\u001b[2m\u001b[3m13 not shown\u001b[0m\u001b[0m\n",
      "\u001b[2m\u001b[3mSome nodes not shown.\u001b[0m\u001b[0m\n"
     ]
    }
   ],
   "source": [
    "af.info(max_rows=200)"
   ]
  },
  {
   "cell_type": "code",
   "execution_count": 14,
   "id": "f6bda85c",
   "metadata": {},
   "outputs": [
    {
     "data": {
      "text/plain": [
       "\u001b[1mroot\u001b[0m (AsdfObject)\n",
       "\u001b[2m└─\u001b[0m\u001b[1mmeta\u001b[0m (dict)\n",
       "\u001b[2m  ├─\u001b[0m\u001b[1mcal_step\u001b[0m (dict)\n",
       "\u001b[2m  │ └─\u001b[0m\u001b[1massign_wcs\u001b[0m (str): COMPLETE\n",
       "\u001b[2m  ├─\u001b[0m\u001b[1mref_file\u001b[0m (dict)\n",
       "\u001b[2m  │ └─\u001b[0m\u001b[1mspecwcs\u001b[0m (dict)\n",
       "\u001b[2m  ├─\u001b[0m\u001b[1mwcs\u001b[0m (WCS)\n",
       "\u001b[2m  └─\u001b[0m\u001b[1mwcsinfo\u001b[0m (dict)\n",
       "\u001b[2m    ├─\u001b[0m\u001b[1mwcsaxes\u001b[0m (int): 2\n",
       "\u001b[2m    └─\u001b[0m\u001b[1mwcsname\u001b[0m (str): world"
      ]
     },
     "execution_count": 14,
     "metadata": {},
     "output_type": "execute_result"
    }
   ],
   "source": [
    "af.search(\"wcs\")"
   ]
  },
  {
   "cell_type": "code",
   "execution_count": 15,
   "id": "c2806106",
   "metadata": {},
   "outputs": [],
   "source": [
    "wcs = af[\"meta\"][\"wcs\"]"
   ]
  },
  {
   "cell_type": "code",
   "execution_count": 16,
   "id": "2aed77ab",
   "metadata": {},
   "outputs": [],
   "source": [
    "# wcs\n",
    "# It is an object\n",
    "# type(wcs)\n",
    "\n",
    "# The GWCS object transforms pixels into world coordinates\n",
    "# wcs(20, 12.3)\n",
    "\n",
    "# It contains a chain of transforms and references cooridnate systems\n",
    "# wcs.forward_transform[0]\n",
    "\n",
    "# wcs.forward_transform[0].offset"
   ]
  },
  {
   "cell_type": "code",
   "execution_count": 17,
   "id": "38617281",
   "metadata": {},
   "outputs": [
    {
     "data": {
      "text/plain": [
       "\u001b[1mroot\u001b[0m (AsdfObject)\n",
       "\u001b[2m├─\u001b[0m\u001b[1mdata\u001b[0m (NDArrayType): shape=(333, 151, 4), dtype=float32\n",
       "\u001b[2m└─\u001b[0m\u001b[1mmeta\u001b[0m (dict)\n",
       "\u001b[2m  └─\u001b[0m\u001b[1mbunit_data\u001b[0m (str): DN/s"
      ]
     },
     "execution_count": 17,
     "metadata": {},
     "output_type": "execute_result"
    }
   ],
   "source": [
    "af.search(\"data\")"
   ]
  },
  {
   "cell_type": "code",
   "execution_count": 18,
   "id": "e3075457",
   "metadata": {},
   "outputs": [],
   "source": [
    "data = af[\"data\"]"
   ]
  },
  {
   "cell_type": "code",
   "execution_count": 24,
   "id": "c772603e",
   "metadata": {},
   "outputs": [
    {
     "name": "stderr",
     "output_type": "stream",
     "text": [
      "Clipping input data to the valid range for imshow with RGB data ([0..1] for floats or [0..255] for integers).\n"
     ]
    },
    {
     "data": {
      "text/plain": [
       "<matplotlib.image.AxesImage at 0x14889a2e0>"
      ]
     },
     "execution_count": 24,
     "metadata": {},
     "output_type": "execute_result"
    },
    {
     "data": {
      "image/png": "[encoded data removed]",
      "text/plain": [
       "<Figure size 432x288 with 1 Axes>"
      ]
     },
     "metadata": {
      "needs_background": "light"
     },
     "output_type": "display_data"
    }
   ],
   "source": [
    "from matplotlib import pyplot as plt\n",
    "\n",
    "%matplotlib inline\n",
    "\n",
    "plt.imshow(af[\"data\"])"
   ]
  },
  {
   "cell_type": "code",
   "execution_count": 23,
   "id": "4ed7ccc8",
   "metadata": {
    "tags": [
     "raises-exception"
    ]
   },
   "outputs": [],
   "source": [
    "af[\"data\"][0, 0] = 999"
   ]
  },
  {
   "cell_type": "markdown",
   "id": "db4f1963",
   "metadata": {},
   "source": [
    "Files are opened in `readonly` mode by default. Pass `mode=rw` to the `open` function to be able to modify them."
   ]
  },
  {
   "cell_type": "markdown",
   "id": "9a281209",
   "metadata": {},
   "source": [
    "**Exercise 2:**\n",
    "\n",
    "Add `additionalProperties=false` to the schema and open the file"
   ]
  },
  {
   "cell_type": "code",
   "execution_count": null,
   "id": "7283577e",
   "metadata": {},
   "outputs": [],
   "source": [
    "s = \"\"\"\n",
    "%YAML 1.1\n",
    "---\n",
    "$schema: http://stsci.edu/schemas/yaml-schema/draft-01\n",
    "\n",
    "title: Mickey's pet\n",
    "description: |\n",
    "  Basic info and a picture of Mickie's \n",
    "  dog Pluto.\n",
    "\n",
    "type: object\n",
    "properties:\n",
    "  age:\n",
    "    title: The age of Pluto\n",
    "    type: object\n",
    "    properties:\n",
    "      birthday:\n",
    "        title: Pluto's first showing\n",
    "        tag: tag:stsci.edu:asdf/time/time-1.1.0\n",
    "  mass:\n",
    "    title: How much he weighs.\n",
    "    tag: tag:stsci.edu:asdf/unit/quantity-1.1.0\n",
    "  picture:\n",
    "    tag: tag:stsci.edu:asdf/core/ndarray-1.0.0\n",
    "  name:\n",
    "    title: Name\n",
    "    type: string\n",
    "required: [name, picture]\n",
    "additionalProperties: false\n",
    "...\n",
    "\"\"\""
   ]
  },
  {
   "cell_type": "code",
   "execution_count": null,
   "id": "49cc45f0",
   "metadata": {},
   "outputs": [],
   "source": [
    "f = open(\"add-prop-1.0.0.yaml\", mode=\"w\")\n",
    "f.write(s)\n",
    "f.close()"
   ]
  },
  {
   "cell_type": "code",
   "execution_count": null,
   "id": "075f4ff7",
   "metadata": {
    "tags": [
     "raises-exception"
    ]
   },
   "outputs": [],
   "source": [
    "afs = asdf.open(\"pluto.asdf\", custom_schema=\"./add-prop-1.0.0.yaml\")"
   ]
  },
  {
   "cell_type": "markdown",
   "id": "0525f622",
   "metadata": {},
   "source": [
    "Take the original schema and add a new required property, called `friend`."
   ]
  },
  {
   "cell_type": "code",
   "execution_count": null,
   "id": "9c394371",
   "metadata": {},
   "outputs": [],
   "source": [
    "s = \"\"\"\n",
    "%YAML 1.1\n",
    "---\n",
    "$schema: http://stsci.edu/schemas/yaml-schema/draft-01\n",
    "\n",
    "title: Mickey's pet\n",
    "description: |\n",
    "  Basic info and a picture of Mickie's \n",
    "  dog Pluto.\n",
    "\n",
    "type: object\n",
    "properties:\n",
    "  age:\n",
    "    title: The age of Pluto\n",
    "    type: object\n",
    "    properties:\n",
    "      birthday:\n",
    "        title: Pluto's first showing\n",
    "        tag: tag:stsci.edu:asdf/time/time-1.1.0\n",
    "  mass:\n",
    "    title: How much he weighs.\n",
    "    tag: tag:stsci.edu:asdf/unit/quantity-1.1.0\n",
    "  picture:\n",
    "    tag: tag:stsci.edu:asdf/core/ndarray-1.0.0\n",
    "  name:\n",
    "    title: Name\n",
    "    type: string\n",
    "  friend:\n",
    "    type: string\n",
    "    title: \"Who is Pluto's friend?\"\n",
    "required: [name, picture, friend]\n",
    "...\n",
    "\"\"\""
   ]
  },
  {
   "cell_type": "code",
   "execution_count": null,
   "id": "27809f12",
   "metadata": {},
   "outputs": [],
   "source": [
    "f = open(\"pluto-friend-1.0.0.yaml\", mode=\"w\")\n",
    "f.write(s)\n",
    "f.close()"
   ]
  },
  {
   "cell_type": "code",
   "execution_count": null,
   "id": "49afe391",
   "metadata": {
    "tags": [
     "raises-exception"
    ]
   },
   "outputs": [],
   "source": [
    "afs = asdf.open(\"pluto.asdf\", custom_schema=\"./pluto-friend-1.0.0.yaml\")"
   ]
  },
  {
   "cell_type": "code",
   "execution_count": null,
   "id": "480ae632",
   "metadata": {},
   "outputs": [],
   "source": [
    "asf = asdf.open(\"pluto.asdf\", mode=\"rw\")\n",
    "asf[\"friend\"] = \"Mickey\"\n",
    "# asf.update()\n",
    "asf.write_to(\"pluto-friend.asdf\")"
   ]
  },
  {
   "cell_type": "code",
   "execution_count": null,
   "id": "d4ee3d87",
   "metadata": {},
   "outputs": [],
   "source": [
    "asf = asdf.open(\"pluto-friend.asdf\", custom_schema=\"./pluto-friend-1.0.0.yaml\")"
   ]
  },
  {
   "cell_type": "markdown",
   "id": "3e3d4578",
   "metadata": {},
   "source": [
    "**Exercise 3:**\n",
    "\n",
    "Use `asdftool` to find the differences in the two files - `pluto.asdf` and `pluto-friend.asdf`\n",
    "Use some of the other options of asdftool"
   ]
  },
  {
   "cell_type": "markdown",
   "id": "65232389",
   "metadata": {},
   "source": [
    "```\n",
    "% asdftool diff pluto-friend.asdf pluto.asdf\n",
    "\n",
    "tree:\n",
    "  asdf_library:\n",
    "    version:\n",
    ">     2.11.2.dev13+gf9aeb247\n",
    "<     2.12.0\n",
    "  history:\n",
    "    extensions:\n",
    "      -\n",
    "        software:\n",
    "          version:\n",
    ">           2.11.2.dev13+gf9aeb247\n",
    "<           2.12.0\n",
    "> friend:\n",
    ">   Mickey\n",
    "```"
   ]
  },
  {
   "cell_type": "markdown",
   "id": "748958a0",
   "metadata": {},
   "source": []
  },
  {
   "cell_type": "markdown",
   "id": "3cd32656",
   "metadata": {},
   "source": [
    "**We can filter out differences in attributes we are not interested in.\n",
    "\n",
    "\n",
    "```\n",
    "% asdftool diff pluto-friend.asdf pluto.asdf -i '[asdf_library,history]'\n",
    "\n",
    "> tree:\n",
    "> friend:\n",
    ">   Mickey\n",
    "```"
   ]
  }
 ],
 "metadata": {
  "celltoolbar": "Tags",
  "kernelspec": {
   "display_name": "Python [conda env:asdf-tutorial-env]",
   "language": "python",
   "name": "conda-env-asdf-tutorial-env-py"
  },
  "language_info": {
   "codemirror_mode": {
    "name": "ipython",
    "version": 3
   },
   "file_extension": ".py",
   "mimetype": "text/x-python",
   "name": "python",
   "nbconvert_exporter": "python",
   "pygments_lexer": "ipython3",
   "version": "3.9.12"
  }
 },
 "nbformat": 4,
 "nbformat_minor": 5
}
