{
 "cells": [
  {
   "cell_type": "code",
   "execution_count": 2,
   "id": "dc019178-3cfa-4549-b0a8-fa8693016266",
   "metadata": {},
   "outputs": [],
   "source": [
    "import asdf\n",
    "import numpy as np\n",
    "\n",
    "np.random.seed(42)"
   ]
  },
  {
   "cell_type": "markdown",
   "id": "3a9850b0-7e5f-42b6-aa18-e2f03708a14b",
   "metadata": {},
   "source": [
    "# 3 - Creating ASDF Files\n",
    "\n",
    "## Introduction\n",
    "\n",
    "ASDF files store their information using a tree (nested key/value) structure. This allows the stored\n",
    "information be be hierarchically organized within the file. Without any extensions, this tree is a\n",
    "nested combination of basic data structures:\n",
    "- maps,\n",
    "- lists,\n",
    "- arrays,\n",
    "- strings,\n",
    "- booleans,\n",
    "- and numbers.\n",
    "\n",
    "All of which are stored using `yaml`. Note that more complex structures (ones not directly supported\n",
    "by `yaml`) are denoted using `yaml` tags. However, those tagged \"sub-trees\" are still comprised of the\n",
    "above basic structures and other tagged sub-trees. Additional tagged objects are supported via\n",
    "ASDF extensions.\n",
    "\n",
    "The Python analogs for these types are:\n",
    "- maps -> `dict`,\n",
    "- lists -> `list`,\n",
    "- arrays -> `np.ndarray`,\n",
    "- strings -> `str`,\n",
    "- booleans -> `bool`,\n",
    "- and numbers -> `int`, `float`, `complex` (depending on the type of number).\n",
    "\n",
    "Where `np.ndarray` are treated in a special way distinct from regular `yaml` (binary blocks). Note\n",
    "that due to limits imposed by Python, dictionary keys are limited to `bool`, `int`, or `str` types\n",
    "only, while value information can be any of the above data types.\n",
    "\n",
    "Typically, when creating an ASDF file using the python library, one begins by creating a nested Python\n",
    "dictionary which corresponds to the nested tree structure one wants the file to have. Indeed, one can\n",
    "interact with any `AsdfFile` object as if it were a dictionary representing this tree structure.\n",
    "\n",
    "## Creating ASDF files using basic python types\n",
    "\n",
    "Lets first create an ASDF file with the key/value pair `\"hello\": \"world\"`:"
   ]
  },
  {
   "cell_type": "code",
   "execution_count": 3,
   "id": "e0cbe5a2-ff64-43ac-9c41-ad354d45977f",
   "metadata": {},
   "outputs": [
    {
     "data": {
      "text/plain": [
       "'world'"
      ]
     },
     "execution_count": 3,
     "metadata": {},
     "output_type": "execute_result"
    }
   ],
   "source": [
    "tree = {\"hello\": \"world\"}\n",
    "af = asdf.AsdfFile(tree)\n",
    "af.write_to(\"hello.asdf\")\n",
    "af[\"hello\"]"
   ]
  },
  {
   "cell_type": "markdown",
   "id": "63ca8aed-aa2c-4e5f-be4c-7dfd0b0cfd67",
   "metadata": {},
   "source": [
    "Open the `hello.asdf` file in your favorite text editor. You should see a something that looks like:"
   ]
  },
  {
   "cell_type": "code",
   "execution_count": 4,
   "id": "7954d9bc",
   "metadata": {},
   "outputs": [
    {
     "name": "stdout",
     "output_type": "stream",
     "text": [
      "#ASDF 1.0.0\n",
      "#ASDF_STANDARD 1.5.0\n",
      "%YAML 1.1\n",
      "%TAG ! tag:stsci.edu:asdf/\n",
      "--- !core/asdf-1.1.0\n",
      "asdf_library: !core/software-1.0.0 {author: The ASDF Developers, homepage: 'http://github.com/asdf-format/asdf',\n",
      "  name: asdf, version: 2.12.0}\n",
      "history:\n",
      "  extensions:\n",
      "  - !core/extension_metadata-1.0.0\n",
      "    extension_class: asdf.extension.BuiltinExtension\n",
      "    software: !core/software-1.0.0 {name: asdf, version: 2.12.0}\n",
      "hello: world\n",
      "...\n",
      "\n"
     ]
    }
   ],
   "source": [
    "with open(\"hello.asdf\") as f:\n",
    "    print(f.read())"
   ]
  },
  {
   "cell_type": "markdown",
   "id": "e20e2abe",
   "metadata": {},
   "source": [
    "Notice that the file contains more information than just the `\"hello\": \"world\"` key value that we\n",
    "entered. It contains information on the library used to create the file under `asdf_library`, and\n",
    "information on what the ASDF library needs (schemas, extensions, etc.) to deserialize the stored \n",
    "data under `history`. \n"
   ]
  },
  {
   "cell_type": "markdown",
   "id": "8245b31a",
   "metadata": {},
   "source": [
    "### Exercise 1\n",
    "Create an ASDF file that stores information using all the basic Python types\n",
    "Except `np.ndarray`:"
   ]
  },
  {
   "cell_type": "code",
   "execution_count": 9,
   "id": "e80a2545",
   "metadata": {},
   "outputs": [],
   "source": [
    "content = {\n",
    "    \"integer\": 5,\n",
    "    \"float\": 5.0,\n",
    "    \"complex\": complex(5.0, 2.0),\n",
    "    \"bool\": False,\n",
    "    \"string\": \"my string\",\n",
    "    \"list\": [1, 2.0, \"three\"],\n",
    "    \"dict\": {\"a\": 5, \"b\": 5.0, \"c\": \"five point oh\"},\n",
    "    \"set\": {5, 5.0, \"five point oh\"}\n",
    "}\n",
    "asdf.AsdfFile(content).write_to(\"my.asdf\")"
   ]
  },
  {
   "cell_type": "code",
   "execution_count": 10,
   "id": "0967dd00-2393-4dba-9baf-e311fe6ec359",
   "metadata": {},
   "outputs": [
    {
     "name": "stdout",
     "output_type": "stream",
     "text": [
      "#ASDF 1.0.0\n",
      "#ASDF_STANDARD 1.5.0\n",
      "%YAML 1.1\n",
      "%TAG ! tag:stsci.edu:asdf/\n",
      "--- !core/asdf-1.1.0\n",
      "asdf_library: !core/software-1.0.0 {author: The ASDF Developers, homepage: 'http://github.com/asdf-format/asdf',\n",
      "  name: asdf, version: 2.12.0}\n",
      "history:\n",
      "  extensions:\n",
      "  - !core/extension_metadata-1.0.0\n",
      "    extension_class: asdf.extension.BuiltinExtension\n",
      "    software: !core/software-1.0.0 {name: asdf, version: 2.12.0}\n",
      "bool: false\n",
      "complex: !core/complex-1.0.0 (5+2j)\n",
      "dict: {a: 5, b: 5.0, c: five point oh}\n",
      "float: 5.0\n",
      "integer: 5\n",
      "list: [1, 2.0, three]\n",
      "set: !!set {five point oh: null, 5: null}\n",
      "string: my string\n",
      "...\n"
     ]
    }
   ],
   "source": [
    "!cat my.asdf"
   ]
  },
  {
   "cell_type": "markdown",
   "id": "2b92717c-c619-4072-afec-ab44ddad97c3",
   "metadata": {},
   "source": [
    "## Creating ASDF files with `np.ndarray`\n",
    "\n",
    "Beyond the maps, lists, strings, and numbers built into Python, ASDF can save arrays, in particular\n",
    "numpy arrays (`np.array`). Indeed, much of ASDF is dedicated to efficiently saving arrays.\n",
    "\n",
    "For example if suppose we want to save a random 8x8 numpy array:"
   ]
  },
  {
   "cell_type": "code",
   "execution_count": 11,
   "id": "873a50b3-258f-49ee-96ef-5cc8ac29ad0f",
   "metadata": {},
   "outputs": [],
   "source": [
    "tree = {\"random_array\": np.random.rand(8, 8)}\n",
    "af = asdf.AsdfFile(tree)\n",
    "af.write_to(\"random.asdf\")"
   ]
  },
  {
   "cell_type": "markdown",
   "id": "7419f8d1-7986-465d-8203-295e26a78a33",
   "metadata": {},
   "source": [
    "Now opening this file in your text editor will result in something like:"
   ]
  },
  {
   "cell_type": "code",
   "execution_count": 12,
   "id": "67a56453",
   "metadata": {},
   "outputs": [
    {
     "name": "stdout",
     "output_type": "stream",
     "text": [
      "#ASDF 1.0.0\n",
      "#ASDF_STANDARD 1.5.0\n",
      "%YAML 1.1\n",
      "%TAG ! tag:stsci.edu:asdf/\n",
      "--- !core/asdf-1.1.0\n",
      "asdf_library: !core/software-1.0.0 {author: The ASDF Developers, homepage: 'http://github.com/asdf-format/asdf',\n",
      "  name: asdf, version: 2.12.0}\n",
      "history:\n",
      "  extensions:\n",
      "  - !core/extension_metadata-1.0.0\n",
      "    extension_class: asdf.extension.BuiltinExtension\n",
      "    software: !core/software-1.0.0 {name: asdf, version: 2.12.0}\n",
      "random_array: !core/ndarray-1.0.0\n",
      "  source: 0\n",
      "  datatype: float64\n",
      "  byteorder: little\n",
      "  shape: [8, 8]\n",
      "...\n",
      "ÓBLK\u00000\u0000\u0000\u0000\u0000\u0000\u0000\u0000\u0000\u0000\u0000\u0000\u0000\u0000\u0000\u0002\u0000\u0000\u0000\u0000\u0000\u0000\u0000\u0002\u0000\u0000\u0000\u0000\u0000\u0000\u0000\u0002\u0000±P\u0010\u001e",
      "\u0016Ñ×vd=ZÏìQ_\u001e",
      "wø×?TÖ»h@lî?Qg\u001e",
      "~lç?°,cÖ5(ã?!\"7køÃ?Lá ÷Ã?pUd\"½­?µ·U\t··ë?­KU<ã?Ò¨æ?~8\u0007\u001a\u0014?¥Sãb\tï?ö\u0013Á¿^£ê?0\u0003í-Ë?8\u0019à_\n",
      "FÇ?H4áÌyÇ?hªät´xÓ?c<\u0007\u0000ÎÊà?Z;/¸ü¤Û?\u000e½2£Ò?'u",
      "Lã?|$¿PïÚÁ?T@Êw²Ò?8·Üñxr×?Ü¹(@0Ý?.:yV) é?t\u001e",
      "\u0016éÉ?\u0013ÔîÇtà?\u0017÷Ýe\u000fõâ?pC\t7YÈ§?¢¸æ\u0001qã?´>5\u0007¼ÓÅ? ªl 8§°?ÐÄ3E]î? Î@&uæî?ª\u001d",
      "dÞé?ê² ÀÊ~Ó?p{c'\n",
      "\u0001¹?aÏö¨<åå?ÜRw]u+Ü?°\u0017",
      "Óå=¿?\u0018bª~ú°ß?\u0000h\u0018K_¡?1r\u0019'\u0019í?08uéÙÐ?v}\u0005ïa3å?\u001e",
      "¸f\u0003\u0013óÓ?¨îÔ°e¤à?<SE¦~á?\\BO©Ç?æ^WÖ\u0006ï?XÌYãÍè?C¢\u0015`\u0010î?\u000fæ´÷l¢ì?ý¹è\"ÿ!ã?´`Neþí?¸\u0013AÒq§¶?LVUh÷\u0015É? ×ý\u0007(§?öÁN6ÒÔ?öúµ\u0016àØ?\u001aJQTÈ]Ñ?LÕX\u0004",
      "ê?Æ×¸ç\u000b",
      "ÕÖ?#ASDF BLOCK INDEX\n",
      "%YAML 1.1\n",
      "---\n",
      "- 517\n",
      "...\n",
      "\n"
     ]
    }
   ],
   "source": [
    "with open(\"random.asdf\", \"r\", encoding=\"unicode_escape\") as f:\n",
    "    print(f.read())"
   ]
  },
  {
   "cell_type": "markdown",
   "id": "b386f241",
   "metadata": {},
   "source": [
    "Observe that at the end of the file there is apparently some binary data. This binary data contains the information\n",
    "in the random array we wrote. Indeed, when ASDF writes arrays to the file it stores them as binary data in a block after\n",
    "the YAML section of the file rather in the section itself. Note that `random_array` in the YAML section stores some\n",
    "information about the nature of the array and includes the `source` key. This `source` value references which binary block \n",
    "(in this case block `0`) the data is stored in.\n",
    "\n",
    "Note that ASDF will store this data in an efficient manner. By this we mean that arrays shared between different objects\n",
    "stored in the ASDF tree, will only be stored once as a binary block with both entries in the yaml metadata will both\n",
    "reference the same binary block. Moreover, this extends to objects which reference a different view of the same data,\n",
    "meaning the views will all still reference the same binary block, only storing information on the view itself."
   ]
  },
  {
   "cell_type": "markdown",
   "id": "eca32812",
   "metadata": {},
   "source": [
    "### Exercise 2\n",
    "\n",
    "Create tree containing the same `np.ndarray` twice, and multiple views on the same `np.ndarray`."
   ]
  },
  {
   "cell_type": "code",
   "execution_count": 15,
   "id": "48f20dbb-102b-488c-afa1-4fc56235680f",
   "metadata": {},
   "outputs": [
    {
     "data": {
      "text/plain": [
       "array([[0.28093451, 0.54269608, 0.14092422, 0.80219698, 0.07455064,\n",
       "        0.98688694, 0.77224477, 0.19871568],\n",
       "       [0.00552212, 0.81546143, 0.70685734, 0.72900717, 0.77127035,\n",
       "        0.07404465, 0.35846573, 0.11586906],\n",
       "       [0.86310343, 0.62329813, 0.33089802, 0.06355835, 0.31098232,\n",
       "        0.32518332, 0.72960618, 0.63755747],\n",
       "       [0.88721274, 0.47221493, 0.11959425, 0.71324479, 0.76078505,\n",
       "        0.5612772 , 0.77096718, 0.4937956 ],\n",
       "       [0.52273283, 0.42754102, 0.02541913, 0.10789143, 0.03142919,\n",
       "        0.63641041, 0.31435598, 0.50857069],\n",
       "       [0.90756647, 0.24929223, 0.41038292, 0.75555114, 0.22879817,\n",
       "        0.07697991, 0.28975145, 0.16122129],\n",
       "       [0.92969765, 0.80812038, 0.63340376, 0.87146059, 0.80367208,\n",
       "        0.18657006, 0.892559  , 0.53934224],\n",
       "       [0.80744016, 0.8960913 , 0.31800347, 0.11005192, 0.22793516,\n",
       "        0.42710779, 0.81801477, 0.86073058]])"
      ]
     },
     "execution_count": 15,
     "metadata": {},
     "output_type": "execute_result"
    }
   ],
   "source": [
    "np.random.rand(8,8)"
   ]
  },
  {
   "cell_type": "code",
   "execution_count": 16,
   "id": "3384e37b-76ba-468a-adb5-ee073757ad58",
   "metadata": {},
   "outputs": [],
   "source": [
    "block = np.random.rand(8, 4)\n",
    "content = {\n",
    "    \"a\": block,\n",
    "    \"b\": {\"c\": block}\n",
    "}\n",
    "asdf.AsdfFile(content).write_to(\"views.asdf\")"
   ]
  },
  {
   "cell_type": "code",
   "execution_count": 17,
   "id": "85cee267",
   "metadata": {},
   "outputs": [
    {
     "name": "stdout",
     "output_type": "stream",
     "text": [
      "#ASDF 1.0.0\n",
      "#ASDF_STANDARD 1.5.0\n",
      "%YAML 1.1\n",
      "%TAG ! tag:stsci.edu:asdf/\n",
      "--- !core/asdf-1.1.0\n",
      "asdf_library: !core/software-1.0.0 {author: The ASDF Developers, homepage: 'http://github.com/asdf-format/asdf',\n",
      "  name: asdf, version: 2.12.0}\n",
      "history:\n",
      "  extensions:\n",
      "  - !core/extension_metadata-1.0.0\n",
      "    extension_class: asdf.extension.BuiltinExtension\n",
      "    software: !core/software-1.0.0 {name: asdf, version: 2.12.0}\n",
      "a: &id001 !core/ndarray-1.0.0\n",
      "  source: 0\n",
      "  datatype: float64\n",
      "  byteorder: little\n",
      "  shape: [8, 4]\n",
      "b:\n",
      "  c: *id001\n",
      "...\n",
      "�BLK\u00000\u0000\u0000\u0000\u0000\u0000\u0000\u0000\u0000\u0000\u0000\u0000\u0000\u0000\u0000\u0001\u0000\u0000\u0000\u0000\u0000\u0000\u0000\u0001\u0000\u0000\u0000\u0000\u0000\u0000\u0000\u0001\u0000��\\���l\n",
      "�y���w�@��MT�y|?V�\"�\n",
      "�\u000f���?��Q�\u0015�?Ѐ\u001d",
      "Bl[�?����W��?f����\u0010�?d+�����?@�~H��?V\u000f��1S�?�)6�r��?��{ɪ��?6�Rh\"��?��z\u00190_�?\u0018��3�j�?Dj6_�M�?#ASDF BLOCK INDEX�\n",
      "%YAML 1.1\n",
      "---\n",
      "- 528\n",
      "...\n"
     ]
    }
   ],
   "source": [
    "!cat views.asdf"
   ]
  },
  {
   "cell_type": "code",
   "execution_count": 18,
   "id": "b5524c7b-fcbc-4c87-8248-64bd05ba3500",
   "metadata": {},
   "outputs": [
    {
     "name": "stdout",
     "output_type": "stream",
     "text": [
      "00000000: 2341 5344 4620 312e 302e 300a 2341 5344  #ASDF 1.0.0.#ASD\n",
      "00000010: 465f 5354 414e 4441 5244 2031 2e35 2e30  F_STANDARD 1.5.0\n",
      "00000020: 0a25 5941 4d4c 2031 2e31 0a25 5441 4720  .%YAML 1.1.%TAG \n",
      "00000030: 2120 7461 673a 7374 7363 692e 6564 753a  ! tag:stsci.edu:\n",
      "00000040: 6173 6466 2f0a 2d2d 2d20 2163 6f72 652f  asdf/.--- !core/\n",
      "00000050: 6173 6466 2d31 2e31 2e30 0a61 7364 665f  asdf-1.1.0.asdf_\n",
      "00000060: 6c69 6272 6172 793a 2021 636f 7265 2f73  library: !core/s\n",
      "00000070: 6f66 7477 6172 652d 312e 302e 3020 7b61  oftware-1.0.0 {a\n",
      "00000080: 7574 686f 723a 2054 6865 2041 5344 4620  uthor: The ASDF \n",
      "00000090: 4465 7665 6c6f 7065 7273 2c20 686f 6d65  Developers, home\n",
      "000000a0: 7061 6765 3a20 2768 7474 703a 2f2f 6769  page: 'http://gi\n",
      "000000b0: 7468 7562 2e63 6f6d 2f61 7364 662d 666f  thub.com/asdf-fo\n",
      "000000c0: 726d 6174 2f61 7364 6627 2c0a 2020 6e61  rmat/asdf',.  na\n",
      "000000d0: 6d65 3a20 6173 6466 2c20 7665 7273 696f  me: asdf, versio\n",
      "000000e0: 6e3a 2032 2e31 322e 307d 0a68 6973 746f  n: 2.12.0}.histo\n",
      "000000f0: 7279 3a0a 2020 6578 7465 6e73 696f 6e73  ry:.  extensions\n",
      "00000100: 3a0a 2020 2d20 2163 6f72 652f 6578 7465  :.  - !core/exte\n",
      "00000110: 6e73 696f 6e5f 6d65 7461 6461 7461 2d31  nsion_metadata-1\n",
      "00000120: 2e30 2e30 0a20 2020 2065 7874 656e 7369  .0.0.    extensi\n",
      "00000130: 6f6e 5f63 6c61 7373 3a20 6173 6466 2e65  on_class: asdf.e\n",
      "00000140: 7874 656e 7369 6f6e 2e42 7569 6c74 696e  xtension.Builtin\n",
      "00000150: 4578 7465 6e73 696f 6e0a 2020 2020 736f  Extension.    so\n",
      "00000160: 6674 7761 7265 3a20 2163 6f72 652f 736f  ftware: !core/so\n",
      "00000170: 6674 7761 7265 2d31 2e30 2e30 207b 6e61  ftware-1.0.0 {na\n",
      "00000180: 6d65 3a20 6173 6466 2c20 7665 7273 696f  me: asdf, versio\n",
      "00000190: 6e3a 2032 2e31 322e 307d 0a61 3a20 2669  n: 2.12.0}.a: &i\n",
      "000001a0: 6430 3031 2021 636f 7265 2f6e 6461 7272  d001 !core/ndarr\n",
      "000001b0: 6179 2d31 2e30 2e30 0a20 2073 6f75 7263  ay-1.0.0.  sourc\n",
      "000001c0: 653a 2030 0a20 2064 6174 6174 7970 653a  e: 0.  datatype:\n",
      "000001d0: 2066 6c6f 6174 3634 0a20 2062 7974 656f   float64.  byteo\n",
      "000001e0: 7264 6572 3a20 6c69 7474 6c65 0a20 2073  rder: little.  s\n",
      "000001f0: 6861 7065 3a20 5b38 2c20 345d 0a62 3a0a  hape: [8, 4].b:.\n",
      "00000200: 2020 633a 202a 6964 3030 310a 2e2e 2e0a    c: *id001.....\n",
      "00000210: d342 4c4b 0030 0000 0000 0000 0000 0000  .BLK.0..........\n",
      "00000220: 0000 0000 0100 0000 0000 0000 0100 0000  ................\n",
      "00000230: 0000 0000 0100 d0f3 5cdd d7e6 6c0a e579  ........\\...l..y\n",
      "00000240: a9f2 f977 9b40 80c5 4d54 d679 7c3f 56e8  ...w.@..MT.y|?V.\n",
      "00000250: 22ba 0a58 e03f 88ee e0a3 dcb6 da3f cc37  \"..X.?.......?.7\n",
      "00000260: 145b 076e cc3f 9806 9f28 7faf be3f 14f8  .[.n.?...(...?..\n",
      "00000270: f3a9 7c9b d53f 7c54 acf8 502c ee3f 7407  ..|..?|T..P,.?t.\n",
      "00000280: c059 5baf d43f 177f 3bca ee99 e03f 3a87  .Y[..?..;....?:.\n",
      "00000290: 9d9d 217f e63f 38e6 8418 b545 d73f 6602  ..!..?8....E.?f.\n",
      "000002a0: 04bd d618 ef3f 14cd fc44 5ecc ee3f f807  .....?...D^..?..\n",
      "000002b0: 927d 331d d03f ecba b265 ebd2 df3f 3248  .}3..?...e...?2H\n",
      "000002c0: 2f19 9741 d33f 5c5f fb9f d33a d23f a0f0  /..A.?\\_...:.?..\n",
      "000002d0: 1291 d8e2 a23f c00d e80f 8d81 e33f e3e6  .....?.......?..\n",
      "000002e0: a451 f215 e03f d080 1d42 6c5b aa3f b6b4  .Q...?...Bl[.?..\n",
      "000002f0: c2fa 57d5 d13f 6693 899e 8310 ed3f 642b  ..W..?f......?d+\n",
      "00000300: e4ca f6a9 ce3f 40b5 7e48 ea8b c23f 560f  .....?@.~H...?V.\n",
      "00000310: 95ab 3153 df3f 9b29 36d2 728a ef3f 8caf  ..1S.?.)6.r..?..\n",
      "00000320: 7bc9 aafb ce3f 36cb 5268 2282 e53f b286  {....?6.Rh\"..?..\n",
      "00000330: 7a19 305f e83f 18e3 df33 e86a ce3f 446a  z.0_.?...3.j.?Dj\n",
      "00000340: 365f 8c4d e73f 2341 5344 4620 424c 4f43  6_.M.?#ASDF BLOC\n",
      "00000350: 4b20 494e 4445 580a 2559 414d 4c20 312e  K INDEX.%YAML 1.\n",
      "00000360: 310a 2d2d 2d0a 2d20 3532 380a 2e2e 2e0a  1.---.- 528.....\n"
     ]
    }
   ],
   "source": [
    "!xxd views.asdf"
   ]
  },
  {
   "cell_type": "markdown",
   "id": "e0b1337e",
   "metadata": {},
   "source": [
    "## Serializing Other Objects\n",
    "\n",
    "As mentioned above, other types of objects can also be serialized by ASDF including objects outside \n",
    "the ASDF-standard; However, support for these objects requires the creation of an ASDF extension, which\n",
    "we will describe in a later tutorial.\n",
    "\n",
    "For our current purposes recall that these objects are denoted in the `yaml` metadata via a `yaml`\n",
    "tag. Indeed some of the objects already discussed are tagged in the metadata. These tags are used by\n",
    "ASDF to determine which extension to use when reading an ASDF file. This enables the \"seamless\" nature\n",
    "of reading objects from an ASDF file, provided the necessary ASDF extension is installed. Note that\n",
    "when a tagged object is present in an ASDF file, but no extension can be found to handle that tag ASDF\n",
    "will raise a warning and return that \"object\" in its \"raw\" form, meaning you will get the nested dictionary\n",
    "object rather than a fully realized instance of the object you wrote.\n",
    "\n",
    "On the other hand, ASDF extensions specify what Python objects they support. This is how ASDF can\n",
    "seamlessly recognize a complex object and serialize it with no input from the user (other than installing\n",
    "the correct ASDF extensions).\n",
    "\n",
    "For example, as part of the install for this course we installed the `asdf-astropy` package, which provides\n",
    "extensions for writing many `astropy` objects. Indeed `asdf-astropy` enables ASDF support for\n",
    "\n",
    "- `astropy` `unit` and `quantity` objects.\n",
    "- (Most) `astropy` model objects.\n",
    "- `astropy` `Time` objects.\n",
    "- `astropy` coordinate and frame objects.\n",
    "- `astropy` `Table` objects.\n",
    "\n",
    "Thus serializing an `astropy` `Table` object:"
   ]
  },
  {
   "cell_type": "code",
   "execution_count": 19,
   "id": "7d2364fb",
   "metadata": {},
   "outputs": [],
   "source": [
    "from astropy.table import Table\n",
    "\n",
    "tree = {\"table\": Table(dtype=[(\"a\", \"f4\"), (\"b\", \"i4\"), (\"c\", \"S2\")])}\n",
    "af = asdf.AsdfFile(tree)\n",
    "af.write_to(\"table.asdf\")"
   ]
  },
  {
   "cell_type": "markdown",
   "id": "3096c0b6",
   "metadata": {},
   "source": [
    "Notice how no additional effort was needed to write the ASDF file since `asdf-astropy` was installed \n",
    "already. Now lets perform a cursory inspection of the `table.asdf` file:"
   ]
  },
  {
   "cell_type": "code",
   "execution_count": 21,
   "id": "3c8e56a9",
   "metadata": {},
   "outputs": [
    {
     "name": "stdout",
     "output_type": "stream",
     "text": [
      "#ASDF 1.0.0\n",
      "#ASDF_STANDARD 1.5.0\n",
      "%YAML 1.1\n",
      "%TAG ! tag:stsci.edu:asdf/\n",
      "--- !core/asdf-1.1.0\n",
      "asdf_library: !core/software-1.0.0 {author: The ASDF Developers, homepage: 'http://github.com/asdf-format/asdf',\n",
      "  name: asdf, version: 2.12.0}\n",
      "history:\n",
      "  extensions:\n",
      "  - !core/extension_metadata-1.0.0\n",
      "    extension_class: asdf.extension.BuiltinExtension\n",
      "    software: !core/software-1.0.0 {name: asdf, version: 2.12.0}\n",
      "  - !core/extension_metadata-1.0.0\n",
      "    extension_class: asdf.extension._manifest.ManifestExtension\n",
      "    extension_uri: asdf://asdf-format.org/core/extensions/core-1.5.0\n",
      "    software: !core/software-1.0.0 {name: asdf-astropy, version: 0.2.1}\n",
      "  - !core/extension_metadata-1.0.0\n",
      "    extension_class: asdf.extension._manifest.ManifestExtension\n",
      "    extension_uri: asdf://astropy.org/astropy/extensions/astropy-1.0.0\n",
      "    software: !core/software-1.0.0 {name: asdf-astropy, version: 0.2.1}\n",
      "table: !<tag:astropy.org:astropy/table/table-1.0.0>\n",
      "  colnames: [a, b, c]\n",
      "  columns:\n",
      "  - !core/column-1.0.0\n",
      "    data: !core/ndarray-1.0.0\n",
      "      source: 0\n",
      "      datatype: float32\n",
      "      byteorder: little\n",
      "      shape: [0]\n",
      "    name: a\n",
      "  - !core/column-1.0.0\n",
      "    data: !core/ndarray-1.0.0\n",
      "      source: 1\n",
      "      datatype: int32\n",
      "      byteorder: little\n",
      "      shape: [0]\n",
      "    name: b\n",
      "  - !core/column-1.0.0\n",
      "    data: !core/ndarray-1.0.0\n",
      "      source: 2\n",
      "      datatype: [ascii, 2]\n",
      "      byteorder: big\n",
      "      shape: [0]\n",
      "    name: c\n",
      "  qtable: false\n",
      "...\n",
      "ÓBLK\u00000\u0000\u0000\u0000\u0000\u0000\u0000\u0000\u0000\u0000\u0000\u0000\u0000\u0000\u0000\u0000\u0000\u0000\u0000\u0000\u0000\u0000\u0000\u0000\u0000\u0000\u0000\u0000\u0000\u0000\u0000\u0000\u0000Ô\u001d",
      "Ù\u0000²\u0004é\tìøB~ÓBLK\u00000\u0000\u0000\u0000\u0000\u0000\u0000\u0000\u0000\u0000\u0000\u0000\u0000\u0000\u0000\u0000\u0000\u0000\u0000\u0000\u0000\u0000\u0000\u0000\u0000\u0000\u0000\u0000\u0000\u0000\u0000\u0000\u0000Ô\u001d",
      "Ù\u0000²\u0004é\tìøB~ÓBLK\u00000\u0000\u0000\u0000\u0000\u0000\u0000\u0000\u0000\u0000\u0000\u0000\u0000\u0000\u0000\u0000\u0000\u0000\u0000\u0000\u0000\u0000\u0000\u0000\u0000\u0000\u0000\u0000\u0000\u0000\u0000\u0000\u0000Ô\u001d",
      "Ù\u0000²\u0004é\tìøB~#ASDF BLOCK INDEX\n",
      "%YAML 1.1\n",
      "---\n",
      "- 1434\n",
      "- 1488\n",
      "- 1542\n",
      "...\n",
      "\n"
     ]
    }
   ],
   "source": [
    "with open(\"table.asdf\", \"r\", encoding=\"unicode_escape\") as f:\n",
    "    print(f.read())"
   ]
  },
  {
   "cell_type": "markdown",
   "id": "821739e4",
   "metadata": {},
   "source": [
    "### Exercise 3\n",
    "\n",
    "Write an ASDF file containing the following `astropy` objects:\n",
    "1. `Quantity`\n",
    "2. A `model`\n",
    "\n",
    "   Hint: The `astropy.modeling` package provides a framework for representing models and performing model evaluation and fitting. Models are initialized using their parameters\n",
    "   ```\n",
    "   from astropy.modeling import models\n",
    "   gauss = models.Gaussian1D(amplitude=10, mean=3, stddev=1.2)\n",
    "   ```\n",
    "3. A `Time` object\n",
    "\n",
    "    Hint: The `astropy.time` package provides functionality for manipulating times and dates. To initialize it supply a string and a format, or supply a datetime object.\n",
    "    \n",
    "4. A Celestial coordinate object (astronomy specific)."
   ]
  },
  {
   "cell_type": "markdown",
   "id": "07a29aa2",
   "metadata": {},
   "source": []
  }
 ],
 "metadata": {
  "kernelspec": {
   "display_name": "Python [conda env:asdf-tutorial-env]",
   "language": "python",
   "name": "conda-env-asdf-tutorial-env-py"
  },
  "language_info": {
   "codemirror_mode": {
    "name": "ipython",
    "version": 3
   },
   "file_extension": ".py",
   "mimetype": "text/x-python",
   "name": "python",
   "nbconvert_exporter": "python",
   "pygments_lexer": "ipython3",
   "version": "3.9.12"
  },
  "vscode": {
   "interpreter": {
    "hash": "c54ecae8f3b9a546603254558bcb3ca9dea5c7af451a66a7914c053836710349"
   }
  }
 },
 "nbformat": 4,
 "nbformat_minor": 5
}
